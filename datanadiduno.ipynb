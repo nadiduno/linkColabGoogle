{
  "nbformat": 4,
  "nbformat_minor": 0,
  "metadata": {
    "colab": {
      "provenance": [],
      "authorship_tag": "ABX9TyMso4yGb12ovVjlF5jjKaee",
      "include_colab_link": true
    },
    "kernelspec": {
      "name": "python3",
      "display_name": "Python 3"
    },
    "language_info": {
      "name": "python"
    }
  },
  "cells": [
    {
      "cell_type": "markdown",
      "metadata": {
        "id": "view-in-github",
        "colab_type": "text"
      },
      "source": [
        "<a href=\"https://colab.research.google.com/github/nadiduno/linkColabGoogle/blob/main/datanadiduno.ipynb\" target=\"_parent\"><img src=\"https://colab.research.google.com/assets/colab-badge.svg\" alt=\"Open In Colab\"/></a>"
      ]
    },
    {
      "cell_type": "markdown",
      "source": [
        "##Problema com a data atual"
      ],
      "metadata": {
        "id": "szOPUkzmxILB"
      }
    },
    {
      "cell_type": "code",
      "execution_count": null,
      "metadata": {
        "id": "mBob9HKrarDv"
      },
      "outputs": [],
      "source": [
        "import datetime"
      ]
    },
    {
      "cell_type": "code",
      "source": [
        "#Obter a data atual\n",
        "#date_today = date.today()\n",
        "date_today =datetime.datetime.now()\n",
        "# Formatear data em \"dd/mm/aaaa\"\n",
        "date_formated= date_today.strftime(\"%d/%m/%Y\")\n",
        "print(date_formated)"
      ],
      "metadata": {
        "colab": {
          "base_uri": "https://localhost:8080/"
        },
        "id": "bq6CmMILayGR",
        "outputId": "b4ac28be-8da2-4495-dad0-6d2bf05a9e44"
      },
      "execution_count": null,
      "outputs": [
        {
          "output_type": "stream",
          "name": "stdout",
          "text": [
            "15/11/2023\n"
          ]
        }
      ]
    },
    {
      "cell_type": "markdown",
      "source": [
        "##Definimos explicitamente o fuso horário de 'America/São_Paulo' usando pytz"
      ],
      "metadata": {
        "id": "jKW1kv5DxRgQ"
      }
    },
    {
      "cell_type": "markdown",
      "source": [
        "Instalando pacote com Pip Install Packages\n",
        "pip install pytz\n",
        "Desinstalando\n",
        "pip uninstall pytz\n"
      ],
      "metadata": {
        "id": "GyeytRItxlZn"
      }
    },
    {
      "cell_type": "code",
      "source": [
        "pip install pytz\n"
      ],
      "metadata": {
        "colab": {
          "base_uri": "https://localhost:8080/",
          "height": 189
        },
        "id": "6-6b2bPvdjTT",
        "outputId": "728ac941-3bfc-414b-872e-3928dfcd3f22"
      },
      "execution_count": null,
      "outputs": [
        {
          "output_type": "stream",
          "name": "stdout",
          "text": [
            "Collecting pytz\n",
            "  Using cached pytz-2023.3.post1-py2.py3-none-any.whl (502 kB)\n",
            "Installing collected packages: pytz\n",
            "Successfully installed pytz-2023.3.post1\n"
          ]
        },
        {
          "output_type": "display_data",
          "data": {
            "application/vnd.colab-display-data+json": {
              "pip_warning": {
                "packages": [
                  "pytz"
                ]
              }
            }
          },
          "metadata": {}
        }
      ]
    },
    {
      "cell_type": "code",
      "source": [
        "import datetime\n",
        "import pytz\n",
        "\n",
        "# Obter a data e hora atual com o fuso horário local\n",
        "datetime_now = datetime.datetime.now(pytz.timezone('America/Sao_Paulo'))\n",
        "\n",
        "# Obter apenas a parte da data\n",
        "date_today = datetime_now.date()\n",
        "\n",
        "# Formatar a data em \"dd/mm/aaaa\"\n",
        "date_formatted = date_today.strftime(\"%d/%m/%Y\")\n",
        "\n",
        "print(date_formatted)"
      ],
      "metadata": {
        "colab": {
          "base_uri": "https://localhost:8080/"
        },
        "id": "3EmJIOo1doAT",
        "outputId": "b03c46c1-27cd-4df0-9382-725018180eb4"
      },
      "execution_count": null,
      "outputs": [
        {
          "output_type": "stream",
          "name": "stdout",
          "text": [
            "14/11/2023\n"
          ]
        }
      ]
    }
  ]
}