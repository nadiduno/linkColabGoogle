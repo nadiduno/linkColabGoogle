{
  "nbformat": 4,
  "nbformat_minor": 0,
  "metadata": {
    "colab": {
      "provenance": [],
      "name": "gabaritoNadi.ipynb",
      "authorship_tag": "ABX9TyM+1Dxwkp8zUE8GKPP1o3MZ",
      "include_colab_link": true
    },
    "kernelspec": {
      "name": "python3",
      "display_name": "Python 3"
    },
    "language_info": {
      "name": "python"
    }
  },
  "cells": [
    {
      "cell_type": "markdown",
      "metadata": {
        "id": "view-in-github",
        "colab_type": "text"
      },
      "source": [
        "<a href=\"https://colab.research.google.com/github/nadiduno/linkColabGoogle/blob/main/gabaritoNadi.ipynb\" target=\"_parent\"><img src=\"https://colab.research.google.com/assets/colab-badge.svg\" alt=\"Open In Colab\"/></a>"
      ]
    },
    {
      "cell_type": "markdown",
      "source": [
        "#Gabaritos de Estudos em Python\n",
        "\n",
        "##[Nadi Duno](https://www.linkedin.com/in/nadiduno/) - 2022"
      ],
      "metadata": {
        "id": "TvoZLQqUcunE"
      }
    },
    {
      "cell_type": "code",
      "source": [
        "# Signo de numeral, hashtag, cerquilha, cancela, antífen ou jogo da Velha \"#\"\n",
        "#é para fazer comentarios \n",
        "\n",
        "#print() funão para imprimir ou mostrar em tela en pytthon\n",
        "\n",
        "#Temos diversar formas de imprimir \n",
        "#Antes vamos definir variáveis e fazer um calculo simple de soma\n",
        "a=2\n",
        "b=3\n",
        "sum=a+b\n",
        "listNumber = list((1, 2, 3.5))\n",
        "registration = True\n",
        "name='Nadi'\n",
        "nationality=\"Venezuelana\"\n",
        "\n",
        "#Para o texto (string) podes usar aspas simples '' ou duplas \"\"\n",
        "#'Venezuelana' ou \"Venezuelana\" tanto faz\n",
        "\n",
        "#Só texto\n",
        "print('Hello World')\n",
        "\n",
        "#Salto de linhea \"\\n\"\n",
        "print ('\\n') \n",
        "print ('\\nBora codar') \n",
        "\n",
        "#Só numeros\n",
        "print(1 + 2)\n",
        "print(a+b)  \n",
        "print(listNumber)\n",
        "print ('\\n') \n",
        "\n",
        "#Texto com números\n",
        "print('A soma é = ',1 + 2)\n",
        "print('A soma é = ',a+b) \n",
        "print('A soma é = ',sum)  \n",
        "#Outra forma de imprimir concatenando texto com numeros\n",
        "print('A soma é = ' + str(sum)) \n",
        "print('A lista de número é = ',listNumber) \n",
        "print ('\\n') \n",
        "\n",
        "#Texto com valores de intercalados\n",
        "print('Olá eu sou ' + name)\n",
        "print(name,'é',nationality)\n",
        "print('A soma de',a, '+',b,'é',sum)\n",
        "print ('\\n') \n",
        "\n",
        "#Texto com valores lógicos\n",
        "print('A soma é 4?', sum == 4 )\n",
        "print(\"Ela esta cadastrada? %s\" %registration)"
      ],
      "metadata": {
        "colab": {
          "base_uri": "https://localhost:8080/"
        },
        "id": "P7j3P-meumYg",
        "outputId": "8106d448-1706-449c-cf24-ad6c206025c2"
      },
      "execution_count": 91,
      "outputs": [
        {
          "output_type": "stream",
          "name": "stdout",
          "text": [
            "Hello World\n",
            "\n",
            "\n",
            "\n",
            "Bora codar\n",
            "3\n",
            "5\n",
            "[1, 2, 3.5]\n",
            "\n",
            "\n",
            "A soma é =  3\n",
            "A soma é =  5\n",
            "A soma é =  5\n",
            "A soma é = 5\n",
            "A lista de número é =  [1, 2, 3.5]\n",
            "\n",
            "\n",
            "Olá eu sou Nadi\n",
            "Nadi é Venezuelana\n",
            "A soma de 2 + 3 é 5\n",
            "\n",
            "\n",
            "A soma é 4? False\n",
            "Ela esta cadastrada? True\n"
          ]
        }
      ]
    },
    {
      "cell_type": "code",
      "source": [
        "#Para solicitar dados aou usuario usa a função input\n",
        "number1=float(input('Inserte primer número: '))\n",
        "print('O número é',number1)"
      ],
      "metadata": {
        "colab": {
          "base_uri": "https://localhost:8080/"
        },
        "id": "hB4AuUEV-8Bm",
        "outputId": "b4968624-eff9-4a31-b571-d902c35d0891"
      },
      "execution_count": 93,
      "outputs": [
        {
          "output_type": "stream",
          "name": "stdout",
          "text": [
            "Inserte primer número: 10\n",
            "SO número é 10.0\n"
          ]
        }
      ]
    },
    {
      "cell_type": "code",
      "source": [
        "#lower converte a maiúsculo\n",
        "d = ['nAdi', 'veneZuela', 'amoR']\n",
        "for i in range(len(d)):\n",
        "    d[i] = d[i].upper()\n",
        "print(d)\n"
      ],
      "metadata": {
        "colab": {
          "base_uri": "https://localhost:8080/"
        },
        "id": "3ejrur7lQofw",
        "outputId": "2570d3b5-8b6e-4498-e5eb-c143ae4063c7"
      },
      "execution_count": null,
      "outputs": [
        {
          "output_type": "stream",
          "name": "stdout",
          "text": [
            "['NADI', 'VENEZUELA', 'AMOR']\n"
          ]
        }
      ]
    },
    {
      "cell_type": "code",
      "source": [
        "#lower converte a minúsculo\n",
        "#otra forma de escrever for\n",
        "d = ['nAdi', 'veneZuela', 'amoR'] \n",
        "d = [x.lower() for x in d]\n",
        "print(d) "
      ],
      "metadata": {
        "colab": {
          "base_uri": "https://localhost:8080/"
        },
        "id": "jMIy1uQGaOyX",
        "outputId": "0b60de42-4dd2-4e3e-f757-19b84405d1e2"
      },
      "execution_count": null,
      "outputs": [
        {
          "output_type": "stream",
          "name": "stdout",
          "text": [
            "['nadi', 'venezuela', 'amor']\n"
          ]
        }
      ]
    },
    {
      "cell_type": "code",
      "source": [
        "#map converter uma lista (para muitos dados, da rápidez) de strings em minúsculo em Python\n",
        "d = ['nAdi', 'veneZuela', 'amoR']\n",
        "d=map(lambda x: x.lower(), d)\n",
        "d=map(lambda x: x.title(), d)\n",
        "d=list(d)\n",
        "print(d)"
      ],
      "metadata": {
        "colab": {
          "base_uri": "https://localhost:8080/"
        },
        "id": "3ZZ8rlC0ZRpD",
        "outputId": "cf0d1765-f4d3-40bd-f44c-83e6c274e158"
      },
      "execution_count": null,
      "outputs": [
        {
          "output_type": "stream",
          "name": "stdout",
          "text": [
            "['Nadi', 'Venezuela', 'Amor']\n"
          ]
        }
      ]
    },
    {
      "cell_type": "code",
      "source": [
        "#title converte a primeira letra em maiúscula\n",
        "#otra forma de escrever for\n",
        "d = ['nAdi', 'veneZuela', 'amoR'] \n",
        "d = [x.lower() for x in d]\n",
        "d = [x.title() for x in d] \n",
        "print(d) "
      ],
      "metadata": {
        "colab": {
          "base_uri": "https://localhost:8080/"
        },
        "id": "u1HIES3ObXC0",
        "outputId": "b318ee7a-c18f-4c9c-f2ac-3db9a7f34781"
      },
      "execution_count": null,
      "outputs": [
        {
          "output_type": "stream",
          "name": "stdout",
          "text": [
            "['Nadi', 'Venezuela', 'Amor']\n"
          ]
        }
      ]
    },
    {
      "cell_type": "code",
      "source": [
        "#map converter uma lista (para muitos dados, da rápidez) de strings em minúsculas em Python\n",
        "d = ['John Smith','Grace Ritchie','Random J. Patient','Dennis Doe','GUZMAN LIRA GLADYS MARGARITA','BELLO DE ALONSO TEOFILA','DAVID ZAPATA JOSEFINA','ALAVA DE MANZABA ESTHER ANDREA','LEAL JOSE AGUSTIN','REGALADO LOURDES','RODIL ARTEAGA NIEVES JOSEFINA','GARCIA JOSEFINA','PERAZA REINA COROMOTO','EVELIA RAVELO','DE ASCENSAO HOMEM LURDES','HERNANDEZ DE SORGE GLORIA ANGELICA','ESPINOZA BIORD AIDA REGINA','FERNANDEZ DE RONDON DOMITILA','LEIVA ONEIDA CATALINA','PEREZ RAMIREZ PEDRO ANTONIO','REYES BLANCO JOSE ENRIQUE','BADILLO CORTEZ GLADYS VICTORIA','SCOTT FERNANDEZ JULIO RAFAEL','BARBOSA JAIMES JULIO JOSE','SOLORZANO BLANCO HEDY DE LOURDES','CUBA LECA SEBASTIANA VICTORIA','CHANG ADAM HENRY VIVIAN','ECHEVERRIA BAYAS MARIA PIA','PALOMINO DE ROSAS JULIA GUILLERMINA','DIAZ DE DELGADO NELDA ROSA','MATALLANA DE SANTOS MIRTHA','KRAR DE ORTEGA ELISABETH','BAJO MANRIQUE MARIA DE LOURDES','BRICENO VIVAS IRIA DAMALIS','SUCRE MERCEDES','DRIKHA DE JESRI INAAM','VERA DE DAMBROSIO CARMEN ELISA','DASILVA GUZMAN MERCEDES GUILLERMINA','CASTRO DE LOPEZ ANGELA NOEMI','FALLO SANTONICOLA FILOMENA','DELGADO MONTILLA JUAN BAUTISTA','MU?OZ ROJAS MARTA YRAIDA','SUCRE VILLAMIZAR LEONOR COROMOTO','JAIMES NOEMI','GUERRA LISTA ANDRES EZEQUIEL','MARIÑO CECILIA','VERA ZAFRA MARTA','LEMUS SALAZAR MILAGROS AGUSTINA','LEMUS SALAZAR ZORAIDA ISABEL','GARCIA MARTINEZ ISABEL MARIA','HARRIS TORRES ELIZABETH JOSEFINA','PULIDO HERNANDEZ LUIS ALBERTO','BOVIO DE ORTIZ EMILIA MARIA','SCHIERA DE CASTILLO NANCY MIREYA','DA SILVA DE JESUS MARIA ANA','BARRIOS ARRIETA DIOSELINA','COLMENARES ANSELMO','GUTIERREZ GONZALEZ CANDELARIA','REMOLINA SERRANO FRANCELINA','OSORIO GALLEGO RUBIELA DE JESUS','PAEZ ELIZABETH','DORMOI DE RAMOS ROSA REBECA','REYES CEDE?O IDELMEINA','BLANCO DE NIGRO HILDA MAGALY','PADILLA PETRO FRANCISCO','CASTILLO GIL RAFAEL EUSEBIO','SAAVEDRA ESPERANZA','MONSANTO LILIAN','SEVERICHE DE DUARTE ELSA ISABEL','DEL CORRAL DE CORREA MARIA CELINA','HIDALGO SCARLET','GUTIERREZ NESTOR','GUEVARA NAVARRO NELLY ISABEL','VILLAMIZAR JOSE ALBERTO','TOVAR MARCO JOSE','VIERA CARMEN ROSA','LEAL HERNANDEZ RAMIRO','FONTANA ANTONIETA','ACOSTA REYES ANA AURORA','CANTILLO LOZADA GENOVEVA MARIA','ALVIR GONZALEZ MARIA AMANDA','HERNANDEZ BELTRAN MARTA BEATRIZ','PENATES MARGARITA','GUERRERO HERNANDEZ BLANCA ROSA','LOPEZ MENDOZA ANA BETULIA','ALVAREZ ALFONZO DOLORES','CARMEN BEATRIZ BETANCOURT DE ORTA','APONTE DE PINEDA ANA RAQUEL','MARQUEZ MENDOZA JANETT','RAMIREZ PORTILLA ESPERANZA','ENRIQUE ROJAS','CABALLERO FELIPE','FLORES YOLANDA','POSSE DE FERNANDEZ GRACIELA','PADILLA DAVID','CERVANTES DE CASTRO DENIS CENITH','DEL CORRAL OLIVIA','CASTRO MARCO','LOBO DE BAGGINI RAMONA ORAIDA','FERNANDEZ JUAN CARLOS']\n",
        "d=map(lambda x: x.lower(), d)\n",
        "d=map(lambda x: x.title(), d)\n",
        "d=list(d)\n",
        "\n",
        "print(d)"
      ],
      "metadata": {
        "id": "rlWvD54VD2XC",
        "colab": {
          "base_uri": "https://localhost:8080/"
        },
        "outputId": "16a9a2fd-f435-44a7-f577-59d0b9efef79"
      },
      "execution_count": 54,
      "outputs": [
        {
          "output_type": "stream",
          "name": "stdout",
          "text": [
            "['John Smith', 'Grace Ritchie', 'Random J. Patient', 'Dennis Doe', 'Guzman Lira Gladys Margarita', 'Bello De Alonso Teofila', 'David Zapata Josefina', 'Alava De Manzaba Esther Andrea', 'Leal Jose Agustin', 'Regalado Lourdes', 'Rodil Arteaga Nieves Josefina', 'Garcia Josefina', 'Peraza Reina Coromoto', 'Evelia Ravelo', 'De Ascensao Homem Lurdes', 'Hernandez De Sorge Gloria Angelica', 'Espinoza Biord Aida Regina', 'Fernandez De Rondon Domitila', 'Leiva Oneida Catalina', 'Perez Ramirez Pedro Antonio', 'Reyes Blanco Jose Enrique', 'Badillo Cortez Gladys Victoria', 'Scott Fernandez Julio Rafael', 'Barbosa Jaimes Julio Jose', 'Solorzano Blanco Hedy De Lourdes', 'Cuba Leca Sebastiana Victoria', 'Chang Adam Henry Vivian', 'Echeverria Bayas Maria Pia', 'Palomino De Rosas Julia Guillermina', 'Diaz De Delgado Nelda Rosa', 'Matallana De Santos Mirtha', 'Krar De Ortega Elisabeth', 'Bajo Manrique Maria De Lourdes', 'Briceno Vivas Iria Damalis', 'Sucre Mercedes', 'Drikha De Jesri Inaam', 'Vera De Dambrosio Carmen Elisa', 'Dasilva Guzman Mercedes Guillermina', 'Castro De Lopez Angela Noemi', 'Fallo Santonicola Filomena', 'Delgado Montilla Juan Bautista', 'Mu?Oz Rojas Marta Yraida', 'Sucre Villamizar Leonor Coromoto', 'Jaimes Noemi', 'Guerra Lista Andres Ezequiel', 'Mariño Cecilia', 'Vera Zafra Marta', 'Lemus Salazar Milagros Agustina', 'Lemus Salazar Zoraida Isabel', 'Garcia Martinez Isabel Maria', 'Harris Torres Elizabeth Josefina', 'Pulido Hernandez Luis Alberto', 'Bovio De Ortiz Emilia Maria', 'Schiera De Castillo Nancy Mireya', 'Da Silva De Jesus Maria Ana', 'Barrios Arrieta Dioselina', 'Colmenares Anselmo', 'Gutierrez Gonzalez Candelaria', 'Remolina Serrano Francelina', 'Osorio Gallego Rubiela De Jesus', 'Paez Elizabeth', 'Dormoi De Ramos Rosa Rebeca', 'Reyes Cede?O Idelmeina', 'Blanco De Nigro Hilda Magaly', 'Padilla Petro Francisco', 'Castillo Gil Rafael Eusebio', 'Saavedra Esperanza', 'Monsanto Lilian', 'Severiche De Duarte Elsa Isabel', 'Del Corral De Correa Maria Celina', 'Hidalgo Scarlet', 'Gutierrez Nestor', 'Guevara Navarro Nelly Isabel', 'Villamizar Jose Alberto', 'Tovar Marco Jose', 'Viera Carmen Rosa', 'Leal Hernandez Ramiro', 'Fontana Antonieta', 'Acosta Reyes Ana Aurora', 'Cantillo Lozada Genoveva Maria', 'Alvir Gonzalez Maria Amanda', 'Hernandez Beltran Marta Beatriz', 'Penates Margarita', 'Guerrero Hernandez Blanca Rosa', 'Lopez Mendoza Ana Betulia', 'Alvarez Alfonzo Dolores', 'Carmen Beatriz Betancourt De Orta', 'Aponte De Pineda Ana Raquel', 'Marquez Mendoza Janett', 'Ramirez Portilla Esperanza', 'Enrique Rojas', 'Caballero Felipe', 'Flores Yolanda', 'Posse De Fernandez Graciela', 'Padilla David', 'Cervantes De Castro Denis Cenith', 'Del Corral Olivia', 'Castro Marco', 'Lobo De Baggini Ramona Oraida', 'Fernandez Juan Carlos']\n"
          ]
        }
      ]
    },
    {
      "cell_type": "code",
      "source": [
        "#title converte a maiúsculo a primiera letra de cada palavra\n",
        "#lower converte a minúsculo\n",
        "\n",
        "#Titulos maiúsculos a minúsculos com a primiera letra em Maiúsculo\n",
        "meTitle = \"TRANSFORMATIVE POTENTIAL AND BIOGRAPHICAL LEGACY OF THE COMMUNITY-ENGAGED LEARNING IN HIGHER EDUCATION.\"\n",
        "meTitle = meTitle[0:1].title() + meTitle[1:].lower()\n",
        "print(meTitle) "
      ],
      "metadata": {
        "id": "lFCJB1fBz9tb",
        "colab": {
          "base_uri": "https://localhost:8080/"
        },
        "outputId": "21566f28-57ae-4533-e729-9a147c484f25"
      },
      "execution_count": 16,
      "outputs": [
        {
          "output_type": "stream",
          "name": "stdout",
          "text": [
            "Transformative potential and biographical legacy of the community-engaged learning in higher education.\n"
          ]
        }
      ]
    },
    {
      "cell_type": "code",
      "source": [
        "#Usando Continue e Break em um array de Frutas\n",
        "fruits=['Banana','Apple','Bad','Pineapple','Strawberry','Grape']\n",
        "fruits"
      ],
      "metadata": {
        "id": "MKYQyuuNSv4h",
        "colab": {
          "base_uri": "https://localhost:8080/"
        },
        "outputId": "bd257efb-3ed8-4684-cd5e-f62f4343dfcc"
      },
      "execution_count": 33,
      "outputs": [
        {
          "output_type": "execute_result",
          "data": {
            "text/plain": [
              "['Banana', 'Apple', 'Bad', 'Pineapple', 'Strawberry', 'Grape']"
            ]
          },
          "metadata": {},
          "execution_count": 33
        }
      ]
    },
    {
      "cell_type": "code",
      "source": [
        "#Continue: Pula sentencia e continua el ciclo\n",
        "for fruit in fruits:\n",
        "  if fruit == 'Bad':\n",
        "    continue\n",
        "  print(fruit)"
      ],
      "metadata": {
        "id": "gqnU5vtV1HJf",
        "colab": {
          "base_uri": "https://localhost:8080/"
        },
        "outputId": "5303f253-3d72-4a0a-f27a-789a77ea119b"
      },
      "execution_count": 34,
      "outputs": [
        {
          "output_type": "stream",
          "name": "stdout",
          "text": [
            "Banana\n",
            "Apple\n",
            "Pineapple\n",
            "Strawberry\n",
            "Grape\n"
          ]
        }
      ]
    },
    {
      "cell_type": "code",
      "source": [
        "#Continue: Rompe el ciclo\n",
        "for fruit in fruits:\n",
        "  if fruit == 'Bad':\n",
        "    break\n",
        "  print(fruit)"
      ],
      "metadata": {
        "id": "x4sQR8a7lskw",
        "colab": {
          "base_uri": "https://localhost:8080/"
        },
        "outputId": "4cdb291f-782a-492b-c4bc-939379317aa7"
      },
      "execution_count": 35,
      "outputs": [
        {
          "output_type": "stream",
          "name": "stdout",
          "text": [
            "Banana\n",
            "Apple\n"
          ]
        }
      ]
    },
    {
      "cell_type": "code",
      "source": [
        "#Concatenando uma data com campos diferentes\n",
        "x=1\n",
        "y=2\n",
        "z=2022\n",
        "str(x)+str('/')+str(y)+str('/')+str(z)"
      ],
      "metadata": {
        "id": "2-mYKOkQ0rbE",
        "colab": {
          "base_uri": "https://localhost:8080/",
          "height": 35
        },
        "outputId": "f0bbb6fc-3dc8-4ca9-b05a-822ecb4a288c"
      },
      "execution_count": 36,
      "outputs": [
        {
          "output_type": "execute_result",
          "data": {
            "text/plain": [
              "'1/2/2022'"
            ],
            "application/vnd.google.colaboratory.intrinsic+json": {
              "type": "string"
            }
          },
          "metadata": {},
          "execution_count": 36
        }
      ]
    },
    {
      "cell_type": "code",
      "source": [
        "#Mostarndo as segundas do mês de janeiro 2022 usando for\n",
        "for i in range(1,32):\n",
        "  if i==3 or i==10 or i==17 or i==24 or i==31:\n",
        "    print(i)"
      ],
      "metadata": {
        "id": "412Q7Rhd37qW",
        "colab": {
          "base_uri": "https://localhost:8080/"
        },
        "outputId": "d48f5a44-be0f-42c0-bf95-dfcebd34f6dc"
      },
      "execution_count": 43,
      "outputs": [
        {
          "output_type": "stream",
          "name": "stdout",
          "text": [
            "3\n",
            "10\n",
            "17\n",
            "24\n",
            "31\n"
          ]
        }
      ]
    },
    {
      "cell_type": "code",
      "source": [
        "#Gerar 10 números aleatorios, números que podem ir desde o 0 até 1400\n",
        "import numpy as np\n",
        "for elemento in range(0,10):\n",
        "  num=np.random.randint(0,1400)\n",
        "  print(num)"
      ],
      "metadata": {
        "id": "J_5lrS17amfs",
        "colab": {
          "base_uri": "https://localhost:8080/"
        },
        "outputId": "836e0154-561e-44ed-abe3-a7b2afbeeee8"
      },
      "execution_count": 52,
      "outputs": [
        {
          "output_type": "stream",
          "name": "stdout",
          "text": [
            "795\n",
            "711\n",
            "769\n",
            "1053\n",
            "1277\n",
            "881\n",
            "1267\n",
            "43\n",
            "1244\n",
            "931\n"
          ]
        }
      ]
    },
    {
      "cell_type": "markdown",
      "source": [
        "#Exercicio con função\n",
        "\n",
        "Faça um programa em Python que peça ao usuário três números inteiros. Seu programa deverá passar para uma função os três números (na ordem que foram inseridos pelo usuário) e, então, a função deve imprimir o resultado da soma entre o segundo número e o resultado da multiplicação entre o primeiro e último número inseridos. Use como entrada os valores (nessa ordem): 177, 351 e 95."
      ],
      "metadata": {
        "id": "RqXlUxjACKtz"
      }
    },
    {
      "cell_type": "code",
      "source": [
        "#Definiendo a função \n",
        "def calculateSum(number1,number2,number3):\n",
        "  calc=(number2)+(number1*number3)\n",
        "  print('O resultado é', calc)\n",
        "\n",
        "#Solicitando as dados\n",
        "number1=float(input('Inserte 1er número: '))\n",
        "number2=float(input('Inserte 2do número: '))\n",
        "number3=float(input('Inserte 3er número: '))\n",
        "#Chamando a função\n",
        "calculateSum(number1,number2,number3)"
      ],
      "metadata": {
        "colab": {
          "base_uri": "https://localhost:8080/"
        },
        "id": "XihUNN0fBX_u",
        "outputId": "007e467b-0949-43d8-e3c3-748300ed8dc1"
      },
      "execution_count": 94,
      "outputs": [
        {
          "output_type": "stream",
          "name": "stdout",
          "text": [
            "Inserte 1er número: 177\n",
            "Inserte 2do número: 351\n",
            "Inserte 3er número: 95\n",
            "O resultado é 17166.0\n"
          ]
        }
      ]
    },
    {
      "cell_type": "code",
      "source": [
        "import math\n",
        "#Raiz quadrada de 9\n",
        "raiz = math.sqrt(9)\n",
        "print(raiz)\n",
        "raiz2 = math.pow(9, 1/2)\n",
        "print(raiz2)"
      ],
      "metadata": {
        "colab": {
          "base_uri": "https://localhost:8080/"
        },
        "id": "5ddpDJc9F5xf",
        "outputId": "e70313bd-1173-4961-cdb4-96c6845ec8da"
      },
      "execution_count": 100,
      "outputs": [
        {
          "output_type": "stream",
          "name": "stdout",
          "text": [
            "3.0\n",
            "3.0\n"
          ]
        }
      ]
    },
    {
      "cell_type": "markdown",
      "source": [
        "#Exercicio\n",
        "\n",
        "De acordo com a fórmula da equação de segundo grau abaixo. Faça uma função que calcule e imprima os resultados de uma equação de segundo grau. Para que seu código fique organizado, faça uma função extra que calcule o Delta () em seprado. \n",
        "2x2 + 8x => x1=0 x2=-4\n",
        "Utilize os seguintes valores como entrada: a = 2, b = 8, c = 0\n",
        "Utilize os seguintes valores como entrada: a = 88, b = 4, c = 16"
      ],
      "metadata": {
        "id": "L3N6pfBZDYJ2"
      }
    },
    {
      "cell_type": "code",
      "source": [
        "import math\n",
        "print('Ecuação de 2do grado')\n",
        "a=float(input('Valor de a: '))\n",
        "b=float(input('Valor de b: '))\n",
        "c=float(input('Valor de c: '))\n",
        "d=(b**2)-(4*a*c)\n",
        "#0print('discriminante',d)\n",
        "x1=(-b+math.pow(d, 1/2))/(2*a)\n",
        "x2=(-b-math.pow(d, 1/2))/(2*a)\n",
        "\n",
        "print('X1=',x1)\n",
        "print('X2=',x2)"
      ],
      "metadata": {
        "colab": {
          "base_uri": "https://localhost:8080/"
        },
        "id": "1-uKXHKuDWuO",
        "outputId": "e5f1c459-e95d-4822-fdfb-d0ffee0a08e7"
      },
      "execution_count": 111,
      "outputs": [
        {
          "output_type": "stream",
          "name": "stdout",
          "text": [
            "Ecuação de 2do grado\n",
            "Valor de a: 2\n",
            "Valor de b: 8\n",
            "Valor de c: 0\n",
            "discriminante 64.0\n",
            "X1= 0.0\n",
            "X2= -4.0\n"
          ]
        }
      ]
    },
    {
      "cell_type": "markdown",
      "source": [
        "#Exercicio de Desafio \n",
        "\n",
        "Escreva uma função em python que lê dois números inteiros (a,b) e gere como resultado as seguintes operações:adição, subtração, multiplicação e divisão. Execute a funçao na celula abaixo\n",
        "\n",
        "##Womakerscode"
      ],
      "metadata": {
        "id": "7S_ip0wItbJn"
      }
    },
    {
      "cell_type": "code",
      "source": [
        "##### ESCREVER A FUNÇAO ABAIXO\n",
        "def operations(a,b):\n",
        "  #### Escrever abaixo\n",
        "  print('A adição é = ',a+b)\n",
        "  print('A subtração é = ',a-b)\n",
        "  print('A multiplicação é = ',a*b)\n",
        "  if (b==0.0): print('A divisão entre zero é impossível')\n",
        "  else : print('A divisão é = ',a/b)"
      ],
      "metadata": {
        "id": "1gz3diQftAFL"
      },
      "execution_count": 58,
      "outputs": []
    },
    {
      "cell_type": "code",
      "source": [
        "#### RODAR A FUNÇAO\n",
        "print('A calculadora')\n",
        "a=float(input('Inserte primer número: '))\n",
        "b=float(input('Inserte segundo número: '))\n",
        "operations(a,b)"
      ],
      "metadata": {
        "colab": {
          "base_uri": "https://localhost:8080/"
        },
        "id": "JUd5iO0Ptdlg",
        "outputId": "f73eeaf6-ee50-439c-edd3-f64c4651b180"
      },
      "execution_count": 59,
      "outputs": [
        {
          "output_type": "stream",
          "name": "stdout",
          "text": [
            "A calculadora\n",
            "Inserte primer número: 20\n",
            "Inserte segundo número: 0\n",
            "A adição é =  20.0\n",
            "A subtração é =  20.0\n",
            "A multiplicação é =  0.0\n",
            "A divisão entre zero é impossível\n"
          ]
        }
      ]
    },
    {
      "cell_type": "markdown",
      "source": [
        "#Analises de Dados - Dados do Desafio \n",
        "## Nova seção\n"
      ],
      "metadata": {
        "id": "JiMjkea-bRI7"
      }
    },
    {
      "cell_type": "code",
      "source": [
        "#Definir a Matriz\n",
        "dados = []\n",
        "#append para adicionar dados na matriz usando a virgula \",\" como separador de elementos\n",
        "dados.append(\"2002,11,,,11,1,09,5,1,11,02\".split(\",\"))\n",
        "dados.append(\"2003,11,,,11,1,09,5,1,11,02\".split(\",\"))\n",
        "#usando o trazo \"-\" com separador de elementos\n",
        "dados.append(\"2001-11---11-1-09-5-1-11-02\".split(\"-\"))\n",
        "#mostrando a matriz\n",
        "print(dados)\n",
        "#Compleantado nos espaços vazios com 99\n",
        "#Definiendo a função\n",
        "def completar_dados(dados):\n",
        "  for index, value in enumerate(dados):\n",
        "    if value == \"\":\n",
        "      dados[index] = '99'\n",
        "  return dados\n",
        "#chamando a funçaõ\n",
        "for elemento in dados:\n",
        "  if isinstance(elemento, list): \n",
        "    completar_dados(elemento)\n",
        "print('\\brCompleantado nos espaços vazios com 99')\n",
        "print(dados)\n"
      ],
      "metadata": {
        "id": "t1YyzW5KbYuh",
        "colab": {
          "base_uri": "https://localhost:8080/"
        },
        "outputId": "5962074a-a8f1-4b48-aa61-64d278256bc2"
      },
      "execution_count": 32,
      "outputs": [
        {
          "output_type": "stream",
          "name": "stdout",
          "text": [
            "[['2002', '11', '', '', '11', '1', '09', '5', '1', '11', '02'], ['2003', '11', '', '', '11', '1', '09', '5', '1', '11', '02'], ['2001', '11', '', '', '11', '1', '09', '5', '1', '11', '02']]\n",
            "\br Compleantado nos espaços vazios com 99\n",
            "[['2002', '11', '99', '99', '11', '1', '09', '5', '1', '11', '02'], ['2003', '11', '99', '99', '11', '1', '09', '5', '1', '11', '02'], ['2001', '11', '99', '99', '11', '1', '09', '5', '1', '11', '02']]\n"
          ]
        }
      ]
    },
    {
      "cell_type": "code",
      "source": [
        "dados = [] \n",
        "dados.append(\"1,,,,01\".split(\",\")) \n",
        "dados.append(\"2,,,1,\".split(\",\")) \n",
        "dados.append(\"3,,1,1,\".split(\",\")) \n",
        "dados.append(\"4,,1,,\".split(\",\"))\n",
        "print(dados)\n",
        "def completar_dados(dados):\n",
        "  for index, value in enumerate(dados):\n",
        "    if value == \"\":\n",
        "      dados[index] = '99'\n",
        "  return dados\n",
        "for elemento in dados:\n",
        "  if isinstance(elemento, list): \n",
        "    completar_dados(elemento)\n",
        "print(dados)\n",
        "\n"
      ],
      "metadata": {
        "colab": {
          "base_uri": "https://localhost:8080/"
        },
        "id": "_V0YRTV5QC9O",
        "outputId": "92f0d485-116f-44bd-f0b4-c31206693f77"
      },
      "execution_count": null,
      "outputs": [
        {
          "output_type": "stream",
          "name": "stdout",
          "text": [
            "[['1', '', '', '', '01'], ['2', '', '', '1', ''], ['3', '', '1', '1', ''], ['4', '', '1', '', '']]\n",
            "[['1', '99', '99', '99', '01'], ['2', '99', '99', '1', '99'], ['3', '99', '1', '1', '99'], ['4', '99', '1', '99', '99']]\n"
          ]
        }
      ]
    },
    {
      "cell_type": "code",
      "source": [
        "lis=\"2020,11,11,,03,2,09,5,1110011,110015970,1,1,91889,133.93337786,127.53668218,1126,01,01,25,12,1961,058,2,2,1,,,,,2,2,2,2,2,2,2,2,2,2,2,2,2,,,,,,,,,,,,,,,,,2,2,,,,,,,1,1,2,2,2,2,3,1,,,,,,,,2,07,,,36,25,,,,,040,040,,1,1,00,00000100,,,,,,1,1,00,00000060,,,,1,,2,,,,1,00001045,2,,2,,2,,2,,2,,2,,3,,,,,1,,,1,1,1,2,1,1,01\".split(\",\")\n",
        "lis\n",
        "for index, value in enumerate(lis):\n",
        "    if value == \"\":\n",
        "      lis[index] = '99'\n",
        "\n",
        "print(lis)"
      ],
      "metadata": {
        "colab": {
          "base_uri": "https://localhost:8080/"
        },
        "id": "asaYsGVD5AbJ",
        "outputId": "b4a48fdd-9f35-4cd0-b8d2-b0fbcbf500a4"
      },
      "execution_count": 44,
      "outputs": [
        {
          "output_type": "stream",
          "name": "stdout",
          "text": [
            "['2020', '11', '11', '99', '03', '2', '09', '5', '1110011', '110015970', '1', '1', '91889', '133.93337786', '127.53668218', '1126', '01', '01', '25', '12', '1961', '058', '2', '2', '1', '99', '99', '99', '99', '2', '2', '2', '2', '2', '2', '2', '2', '2', '2', '2', '2', '2', '99', '99', '99', '99', '99', '99', '99', '99', '99', '99', '99', '99', '99', '99', '99', '99', '2', '2', '99', '99', '99', '99', '99', '99', '1', '1', '2', '2', '2', '2', '3', '1', '99', '99', '99', '99', '99', '99', '99', '2', '07', '99', '99', '36', '25', '99', '99', '99', '99', '040', '040', '99', '1', '1', '00', '00000100', '99', '99', '99', '99', '99', '1', '1', '00', '00000060', '99', '99', '99', '1', '99', '2', '99', '99', '99', '1', '00001045', '2', '99', '2', '99', '2', '99', '2', '99', '2', '99', '2', '99', '3', '99', '99', '99', '99', '1', '99', '99', '1', '1', '1', '2', '1', '1', '01']\n"
          ]
        }
      ]
    },
    {
      "cell_type": "code",
      "source": [
        "#map converter uma lista (para muitos dados, da rápidez) de strings em minúsculas em Python\n",
        "d = ['HEMODIÁLISE (MÁXIMO 04 SESSÕE S POR SEMANA)','RETIRADA DE CORPO ESTRANHO DE OUVIDO / FARINGE / LARINGE / NARIZ','ENXERTO DERMO-EPIDERMICO','RECONSTRUCAO CRANIANA','MICROCIRURGIA DE PLEXO BRAQUIAL COM EXPLORAÇÃO E NEUROLISE','DRENAGEM DE ABSCESSO','IMPLANTE COCLEAR','TRAQUEOSTOMIA','SINUSOTOMIA TRANSMAXILAR','RETIRADA DE CORPO ESTRANHO DOS OSSOS','CIRURGICA DE TIREOIDE','REDUÇÃO DE FRATURA ALVEOLO-DENTÁRIA','RETIRADA DE MATERIAL DE SÍNTESE ÓSSEA','OSTEOTOMIA CRÂNIO-FACIAL','ESVAZIAMENTO CERVICAL','ESOFAGORRAFIA CERVICAL','ESCAPULOPEXIA C/ OU S/ OSTEOTOMIA DA ESCAPULA / RESSECCAO BARRA OMO-CERVICAL','REPARACAO DE HERNIA DE DISCO','CONSOLIDACAO DA PSEUDARTROSE DE CLAVICULA / ESCAPULA',' CIRURGICO DE LUXACAO / FRATURA-LUXACAO METATARSO INTER-FALANGEANA','REDUÇÃO DE LUXAÇÃO TÊMPORO-MANDIBULAR','ARTROPLASTIA DE JOELHO','CIRURGICO DE HIPERCERATOSE PLANTAR (C/ CORRECAO PLASTICA)','PLÁSTICA DO CANAL DE STENON','RECONSTRUCAO OSTEOPLASTICA DO QUADRIL','PLASTICA DA BOLSA ESCROTAL','REPARACAO E OPERACAO PLASTICA DO TESTICULO','PLASTICA TOTAL DO PENIS','CISTOENTEROPLASTIA','PIELOPLASTIA','PLASTICA MAMARIA FEMENINA','PLASTICA MAMARIA MASCULINA','ECOCARDIOGRAFIA DE ESTRESSE','ECOCARDIOGRAFIA TRANSESOFAGICA','PAQUIMETRIA ULTRASSÔNICA','ULTRA-SONOGRAFIA DE ABDOMEN TOTAL','ULTRA-SONOGRAFIA DE APARELHO URINARIO','ULTRA-SONOGRAFIA MAMARIA BILATERAL','ULTRA-SONOGRAFIA DE PROSTATA (VIA ABDOMINAL)','ULTRA-SONOGRAFIA DE PROSTATA (VIA TRANSRETAL)','ULTRA-SONOGRAFIA DE TIREOIDE','ULTRA-SONOGRAFIA DE TORAX (EXTRACARDIACA)','ULTRA-SONOGRAFIA PELVICA (GINECOLOGICA)','ULTRA-SONOGRAFIA TRANSVAGINAL','DACRIOCISTOGRAFIA','PLANIGRAFIA DE LARINGE','RADIOGRAFIA PERI-APICAL INTERPROXIMAL (BITE-WING)','SIALOGRAFIA (POR GLANDULA)','TRATAMENTO CIRURGICO DE ACALASIA (CARDIOMIOPLASTIA)','CIRURGIA CARDIOVASCULAR','CINTILOGRAFIA DE MIOCARDIO','CINTILOGRAFIA P/ AVALIACAO DE FLUXO SANGUINEO ','CINTILOGRAFIA DE CORACAO C/ GALIO 67','CINTILOGRAFIA P/ QUANTIFICACAO DE SHUNT ','CINTILOGRAFIA SINCRONIZADA DE CAMARAS CARDIACAS EM SITUACAO DE ESFORCO','CINTILOGRAFIA SINCRONIZADA DE CAMARAS CARDIACAS','CORRECAO CIRURGICA DE LAGOFTALMO','CRIOTERAPIA DE TUMORES INTRA-OCULARES','DESCOMPRESSAO DE NERVO OPTICO','DESCOMPRESSAO DE ORBITA','ENUCLEACAO DE GLOBO OCULAR','EVISCERACAO DE GLOBO OCULAR','EXENTERACAO DE ORBITA','EXERESE DE TUMOR MALIGNO INTRA-OCULAR','EXPLANTE DE LENTE OCULAR','EXPLANTE DE LENTE INTRA OCULAR','ORBITOTOMIA','TRANSPLANTE DE PERIOSTEO EM ESCLEROMALACIA','RECONSTITUICAO DE CAVIDADE ORBITÁRIA','RECONSTITUICAO DE PAREDE DA ORBITA','PNEUMOPERITONIO (POR SESSAO)','STREPTOCOCCUS PNEUMONIAE','TRANSTORNO RESPIRATÓRIO C/ COMPLICAÇÕES SISTÊMIC','DRENAGEM DE ABSCESSO FARINGEO','APLICACAO DE TESTE P/ PSICODIAGNOSTICO ','TRATAMENTO EM PSIQUIATRIA (POR DIA)','TRATAMENTO CLÍNICO EM SAÚDE MENTAL EM SITUAÇÃO DE RISCO ELEVADO DE SUICÍDIO','TRATAMENTO CLÍNICO PARA CONTENÇÃO DE COMPORTAMENTO DESORGANIZADO E/OU DISRUPTIVO',' TRATAMENTO CLÍNICO DE TRANSTORNOS MENTAISE COMPORTAMENTAIS DEVIDO AO USO DE ÁLCOOL','TRATAMENTO CLÍNICO DE TRANSTORNOS MENTAISE COMPORTAMENTAIS DEVIDO AO USO DE DROGAS','TESTE RAPIDO PARA DETECCAO DE HIV EM GESTANTE','TESTE RÁPIDO PARA DETECÇÃO DE INFECÇÃO PE LO HIV','TESTE RÁPIDO PARA SÍFILIS','TRATAMENTO CIRURGICO DE ARTRITE INFECCIOSA (GRANDES E MEDIAS ARTICULACOES)','TRATAMENTO CIRURGICO DE ARTRITE INFECCIOSA DAS PEQUENAS ARTICULACOES','HEMODIÁLISE II EM PORTADOR DE HIV (MÁXIMO 3 SESSÕES POR SEMANA)','HEMODIÁLISE II EM PORTADOR DO HIV (EXCEPC IONALIDADE - MÁXIMO 1 SESSAO / SEMANA)','DETECCAO DE RNA DO HIV-1 (QUALITATIVO)','TESTE RÁPIDO PARA VIRUS  COVID-19 ']\n",
        "d=map(lambda x: x.lower(), d)\n",
        "d=map(lambda x: x.title(), d)\n",
        "d=list(d)\n",
        "print(d)"
      ],
      "metadata": {
        "colab": {
          "base_uri": "https://localhost:8080/"
        },
        "id": "2gb_DPfjcd5a",
        "outputId": "9c88be10-74e6-497c-c3c8-cf2fbf5aa2a2"
      },
      "execution_count": 45,
      "outputs": [
        {
          "output_type": "stream",
          "name": "stdout",
          "text": [
            "['Hemodiálise (Máximo 04 Sessõe S Por Semana)', 'Retirada De Corpo Estranho De Ouvido / Faringe / Laringe / Nariz', 'Enxerto Dermo-Epidermico', 'Reconstrucao Craniana', 'Microcirurgia De Plexo Braquial Com Exploração E Neurolise', 'Drenagem De Abscesso', 'Implante Coclear', 'Traqueostomia', 'Sinusotomia Transmaxilar', 'Retirada De Corpo Estranho Dos Ossos', 'Cirurgica De Tireoide', 'Redução De Fratura Alveolo-Dentária', 'Retirada De Material De Síntese Óssea', 'Osteotomia Crânio-Facial', 'Esvaziamento Cervical', 'Esofagorrafia Cervical', 'Escapulopexia C/ Ou S/ Osteotomia Da Escapula / Resseccao Barra Omo-Cervical', 'Reparacao De Hernia De Disco', 'Consolidacao Da Pseudartrose De Clavicula / Escapula', ' Cirurgico De Luxacao / Fratura-Luxacao Metatarso Inter-Falangeana', 'Redução De Luxação Têmporo-Mandibular', 'Artroplastia De Joelho', 'Cirurgico De Hiperceratose Plantar (C/ Correcao Plastica)', 'Plástica Do Canal De Stenon', 'Reconstrucao Osteoplastica Do Quadril', 'Plastica Da Bolsa Escrotal', 'Reparacao E Operacao Plastica Do Testiculo', 'Plastica Total Do Penis', 'Cistoenteroplastia', 'Pieloplastia', 'Plastica Mamaria Femenina', 'Plastica Mamaria Masculina', 'Ecocardiografia De Estresse', 'Ecocardiografia Transesofagica', 'Paquimetria Ultrassônica', 'Ultra-Sonografia De Abdomen Total', 'Ultra-Sonografia De Aparelho Urinario', 'Ultra-Sonografia Mamaria Bilateral', 'Ultra-Sonografia De Prostata (Via Abdominal)', 'Ultra-Sonografia De Prostata (Via Transretal)', 'Ultra-Sonografia De Tireoide', 'Ultra-Sonografia De Torax (Extracardiaca)', 'Ultra-Sonografia Pelvica (Ginecologica)', 'Ultra-Sonografia Transvaginal', 'Dacriocistografia', 'Planigrafia De Laringe', 'Radiografia Peri-Apical Interproximal (Bite-Wing)', 'Sialografia (Por Glandula)', 'Tratamento Cirurgico De Acalasia (Cardiomioplastia)', 'Cirurgia Cardiovascular', 'Cintilografia De Miocardio', 'Cintilografia P/ Avaliacao De Fluxo Sanguineo ', 'Cintilografia De Coracao C/ Galio 67', 'Cintilografia P/ Quantificacao De Shunt ', 'Cintilografia Sincronizada De Camaras Cardiacas Em Situacao De Esforco', 'Cintilografia Sincronizada De Camaras Cardiacas', 'Correcao Cirurgica De Lagoftalmo', 'Crioterapia De Tumores Intra-Oculares', 'Descompressao De Nervo Optico', 'Descompressao De Orbita', 'Enucleacao De Globo Ocular', 'Evisceracao De Globo Ocular', 'Exenteracao De Orbita', 'Exerese De Tumor Maligno Intra-Ocular', 'Explante De Lente Ocular', 'Explante De Lente Intra Ocular', 'Orbitotomia', 'Transplante De Periosteo Em Escleromalacia', 'Reconstituicao De Cavidade Orbitária', 'Reconstituicao De Parede Da Orbita', 'Pneumoperitonio (Por Sessao)', 'Streptococcus Pneumoniae', 'Transtorno Respiratório C/ Complicações Sistêmic', 'Drenagem De Abscesso Faringeo', 'Aplicacao De Teste P/ Psicodiagnostico ', 'Tratamento Em Psiquiatria (Por Dia)', 'Tratamento Clínico Em Saúde Mental Em Situação De Risco Elevado De Suicídio', 'Tratamento Clínico Para Contenção De Comportamento Desorganizado E/Ou Disruptivo', ' Tratamento Clínico De Transtornos Mentaise Comportamentais Devido Ao Uso De Álcool', 'Tratamento Clínico De Transtornos Mentaise Comportamentais Devido Ao Uso De Drogas', 'Teste Rapido Para Deteccao De Hiv Em Gestante', 'Teste Rápido Para Detecção De Infecção Pe Lo Hiv', 'Teste Rápido Para Sífilis', 'Tratamento Cirurgico De Artrite Infecciosa (Grandes E Medias Articulacoes)', 'Tratamento Cirurgico De Artrite Infecciosa Das Pequenas Articulacoes', 'Hemodiálise Ii Em Portador De Hiv (Máximo 3 Sessões Por Semana)', 'Hemodiálise Ii Em Portador Do Hiv (Excepc Ionalidade - Máximo 1 Sessao / Semana)', 'Deteccao De Rna Do Hiv-1 (Qualitativo)', 'Teste Rápido Para Virus  Covid-19 ']\n"
          ]
        }
      ]
    },
    {
      "cell_type": "code",
      "source": [
        "#Livrerias\n",
        "import numpy as np\n",
        "import pandas as pd\n",
        "#Carregar os arquivos no ambiente de Colab primeiro \n",
        "#Importando Dados\n",
        "df_hospital = pd.read_csv('dadoshospital1.csv')\n",
        "df_pacientes = pd.read_csv('Pacientes.csv')\n",
        "df_hospital.info()"
      ],
      "metadata": {
        "id": "-SosdNALiBOm"
      },
      "execution_count": null,
      "outputs": []
    },
    {
      "cell_type": "code",
      "source": [
        "#Agregar x registros aleatorios\n",
        "dados = df_hospital\n",
        "medicos = ['John Dorian','Elliot Reid','Christopher Turk','Percival Cox','Bob Kelso','Todd Quinlan','John Wen','Keith Dudemeister','Molly Clock','Cletche Na Fantchamna','Eric Gitiérrez Angulo','Khaled Rezk','Hilary Shirley','Nadi Duno Escaolona','Fabricio Lopes da Fonseca','Marcia Jacomelli','Rodrigo Gobbo Garcia','VICTOR NUDELMAN']\n",
        "especialidades = ['Medicina Geral','Cirurgia geral','Psiquiatria','Ginecologia e obstetrícia','Ortopedia e traumatologia','Pediatria','Cardiologia','Oftalmologia','Radiologia e diagnóstico por imagem','Oncologia','Neumonologia','Infectologia']\n",
        "num_esp=len(especialidades)\n",
        "num_med=len(medicos)\n",
        "x=1000\n",
        "for elemento in range(11,x):\n",
        "  dicionario = {'ID':elemento+1,'Médico':medicos[np.random.randint(0,num_med,)-1],'Especialidade':especialidades[np.random.randint(0,num_esp,)-1],'Afiliação':1}    \n",
        "  dados = dados.append(dicionario,ignore_index=True)\n",
        "print(dados)"
      ],
      "metadata": {
        "id": "22Vn2bAYh0Rk"
      },
      "execution_count": null,
      "outputs": []
    },
    {
      "cell_type": "code",
      "source": [
        "#Agregar x registros aleatorios com ID das tabelas\n",
        "especialidades = [1,2,3,4,5,6,7,8,9,10,11,12,13]\n",
        "medicos = [1,2,3,4,5,6,7,8,9,10,11,12,13]\n",
        "num_esp=len(especialidades)\n",
        "num_med=len(medicos)\n",
        "x=30\n",
        "for elemento in range(11,x):\n",
        "  dicionario = {'ID':elemento+1,'Médico':medicos[np.random.randint(0,num_esp,)-1],'Especialidade':especialidades[np.random.randint(0,num_esp,)-1],'Afiliação':1}    \n",
        "  dados = dados.append(dicionario,ignore_index=True)\n",
        "print(dados)"
      ],
      "metadata": {
        "id": "TZg0wgw_h6gP"
      },
      "execution_count": null,
      "outputs": []
    },
    {
      "cell_type": "code",
      "source": [
        "\n",
        "atributo = 'Especialidade'\n",
        "serie_especialidade = df_hospital[atributo]\n",
        "espec = list(serie_especialidade)\n",
        "len(espec)#quantidade\n",
        "espec"
      ],
      "metadata": {
        "id": "trBNvubLh8oD"
      },
      "execution_count": null,
      "outputs": []
    },
    {
      "cell_type": "markdown",
      "source": [
        "#Exportando dados\n",
        "## Nova seção"
      ],
      "metadata": {
        "id": "wbppSzW4lDtG"
      }
    },
    {
      "cell_type": "code",
      "source": [
        "#Exportando Dados\n",
        "#df_hospital.to_csv('dadoshospital2.csv')\n",
        "dados.to_csv('dadoshospital3.csv')"
      ],
      "metadata": {
        "id": "DUhKLvQkh_za"
      },
      "execution_count": null,
      "outputs": []
    }
  ]
}