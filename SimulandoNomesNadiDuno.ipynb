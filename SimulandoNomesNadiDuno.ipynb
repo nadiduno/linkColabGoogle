{
  "cells": [
    {
      "cell_type": "markdown",
      "metadata": {
        "id": "view-in-github",
        "colab_type": "text"
      },
      "source": [
        "<a href=\"https://colab.research.google.com/github/nadiduno/linkColabGoogle/blob/main/SimulandoNomesNadiDuno.ipynb\" target=\"_parent\"><img src=\"https://colab.research.google.com/assets/colab-badge.svg\" alt=\"Open In Colab\"/></a>"
      ]
    },
    {
      "cell_type": "markdown",
      "source": [
        "<h1>PYTHON - Simulanção de dados para criar bases de dados não reais </h1>\n",
        " <h2> <a href=\"https://totidiversidade.com.br/\" target=\"_blank\"><img src='https://totidiversidade.com.br/assets/img/icon_logo_toti.202d2564.svg' width=\"100\"></a></h2>\n",
        "<h1>DevRel: <a href=\"https://www.linkedin.com/in/nadiduno/\" target=\"_blank\">Nadi Duno</a></h1>\n",
        "</h1>Embaixadora da Toti Diverdidade</h1>"
      ],
      "metadata": {
        "id": "-qC0AclVaF1U"
      }
    },
    {
      "cell_type": "code",
      "execution_count": null,
      "metadata": {
        "colab": {
          "base_uri": "https://localhost:8080/"
        },
        "id": "yeWHDtxZVHih",
        "outputId": "f457dfb1-b9f7-4c38-eced-a74c255b6054"
      },
      "outputs": [
        {
          "output_type": "stream",
          "name": "stdout",
          "text": [
            "Looking in indexes: https://pypi.org/simple, https://us-python.pkg.dev/colab-wheels/public/simple/\n",
            "Requirement already satisfied: names in /usr/local/lib/python3.10/dist-packages (0.3.0)\n"
          ]
        }
      ],
      "source": [
        "pip install names\n"
      ]
    },
    {
      "cell_type": "code",
      "execution_count": null,
      "metadata": {
        "colab": {
          "base_uri": "https://localhost:8080/"
        },
        "id": "0bRrpb7kVlvW",
        "outputId": "64dad07d-1093-41f6-8d70-dabcfaf699bc"
      },
      "outputs": [
        {
          "output_type": "stream",
          "name": "stdout",
          "text": [
            "Looking in indexes: https://pypi.org/simple, https://us-python.pkg.dev/colab-wheels/public/simple/\n",
            "Requirement already satisfied: randomname in /usr/local/lib/python3.10/dist-packages (0.2.1)\n",
            "Requirement already satisfied: fire in /usr/local/lib/python3.10/dist-packages (from randomname) (0.5.0)\n",
            "Requirement already satisfied: six in /usr/local/lib/python3.10/dist-packages (from fire->randomname) (1.16.0)\n",
            "Requirement already satisfied: termcolor in /usr/local/lib/python3.10/dist-packages (from fire->randomname) (2.3.0)\n"
          ]
        }
      ],
      "source": [
        "pip install randomname "
      ]
    },
    {
      "cell_type": "code",
      "source": [
        "pip install Faker"
      ],
      "metadata": {
        "colab": {
          "base_uri": "https://localhost:8080/"
        },
        "id": "wBdzVe4WZ2LV",
        "outputId": "b2f67862-345b-48d6-f8ca-465b3539c1df"
      },
      "execution_count": null,
      "outputs": [
        {
          "output_type": "stream",
          "name": "stdout",
          "text": [
            "Looking in indexes: https://pypi.org/simple, https://us-python.pkg.dev/colab-wheels/public/simple/\n",
            "Requirement already satisfied: Faker in /usr/local/lib/python3.10/dist-packages (18.7.0)\n",
            "Requirement already satisfied: python-dateutil>=2.4 in /usr/local/lib/python3.10/dist-packages (from Faker) (2.8.2)\n",
            "Requirement already satisfied: six>=1.5 in /usr/local/lib/python3.10/dist-packages (from python-dateutil>=2.4->Faker) (1.16.0)\n"
          ]
        }
      ]
    },
    {
      "cell_type": "markdown",
      "source": [
        "# Documentação Oficial\n",
        "\n",
        "https://pypi.org/project/names/\n",
        "\n",
        "https://pypi.org/project/randomname/\n",
        "\n",
        "https://pypi.org/project/Faker/"
      ],
      "metadata": {
        "id": "xhxZlOh5aP8q"
      }
    },
    {
      "cell_type": "code",
      "source": [
        "import pandas as pd\n",
        "import names, randomname, faker"
      ],
      "metadata": {
        "id": "Sk_n9F6-aUPy"
      },
      "execution_count": null,
      "outputs": []
    },
    {
      "cell_type": "markdown",
      "source": [
        "#Procurar bibliotecas que simulem dados cadastrais\n",
        "#simpy\n",
        "#pyaddress"
      ],
      "metadata": {
        "id": "urR9x4nAaffb"
      }
    },
    {
      "cell_type": "markdown",
      "source": [
        "# Names:\n",
        "É uma biblioteca Python que fornece um gerador de nomes aleatórios. Para usar essa biblioteca, você precisa instalá-la com pip: sudo pip install names. Depois, você pode importá-la no seu código e usar as funções get_full_name, get_first_name ou get_last_name para obter nomes completos, nomes próprios ou sobrenomes, respectivamente. Você também pode especificar o gênero dos nomes com o parâmetro gender. Aqui está um exemplo de código que gera 10 nomes completos usando a biblioteca names:\n",
        "\n",
        "Baseado no censo de EEUU do 1990"
      ],
      "metadata": {
        "id": "diAyJeYmall6"
      }
    },
    {
      "cell_type": "code",
      "source": [
        "# Gera um nome completo aleatório\n",
        "nome_completo = names.get_full_name()\n",
        "print(f\"Nome completo: {nome_completo}\")\n",
        "\n",
        "# Gera um nome próprio aleatório de gênero feminino\n",
        "nome_feminino = names.get_first_name(gender='female')\n",
        "print(f\"Primer Nome feminino: {nome_feminino}\")\n",
        "\n",
        "# Gera um sobrenome aleatório de nacionalidade brasileira\n",
        "#sobrenome_brasileiro = names.get"
      ],
      "metadata": {
        "colab": {
          "base_uri": "https://localhost:8080/"
        },
        "id": "bpUK7DlIameU",
        "outputId": "ec9ae6b0-45d8-4a16-af81-5d098936b6e9"
      },
      "execution_count": null,
      "outputs": [
        {
          "output_type": "stream",
          "name": "stdout",
          "text": [
            "Nome completo: Benjamin Smith\n",
            "Primer Nome feminino: Barbara\n"
          ]
        }
      ]
    },
    {
      "cell_type": "code",
      "source": [
        "\n",
        "# Gerar 10 nomes completos\n",
        "for i in range(10):\n",
        "    # Obter um nome completo aleatório\n",
        "    nome = names.get_full_name()\n",
        "    # Imprimir o nome\n",
        "    print(nome)"
      ],
      "metadata": {
        "colab": {
          "base_uri": "https://localhost:8080/"
        },
        "id": "ak05jaDgatYD",
        "outputId": "d6a8ec9f-55c4-4344-a49c-b1c705a2f303"
      },
      "execution_count": null,
      "outputs": [
        {
          "output_type": "stream",
          "name": "stdout",
          "text": [
            "Martha Holtzman\n",
            "Adam Wilson\n",
            "Jimmy Torres\n",
            "Sam Gibbs\n",
            "Mary Petterson\n",
            "Cinda Robinson\n",
            "Kelly Ashby\n",
            "Mary Mackin\n",
            "Rebecca Havard\n",
            "Ronald Mcclung\n"
          ]
        }
      ]
    },
    {
      "cell_type": "code",
      "source": [],
      "metadata": {
        "id": "VmLHMwA0at_T"
      },
      "execution_count": null,
      "outputs": []
    },
    {
      "cell_type": "markdown",
      "source": [
        "# Randomname: \n",
        "\n",
        "Uma biblioteca que gera nomes únicos usando palavras reais, como contêineres docker ou repositórios github. Você pode instalar com pip install randomname e usar a função get para obter um nome no formato adjetivo-substantivo. Você também pode especificar subcategorias de adjetivos e substantivos ou definir seu próprio formato com a função generate.\n"
      ],
      "metadata": {
        "id": "CSAN5bfjayox"
      }
    },
    {
      "cell_type": "code",
      "source": [
        "# Gerar 10 nomes no formato adjetivo-substantivo\n",
        "for i in range(10):\n",
        "    # Obter um nome completo aleatório\n",
        "    nome = randomname.get_name()\n",
        "    # Imprimir o nome\n",
        "    print(nome)"
      ],
      "metadata": {
        "colab": {
          "base_uri": "https://localhost:8080/"
        },
        "id": "yN8zWAbMa6Sa",
        "outputId": "b3b65c95-a970-446d-84a4-e0db4e936233"
      },
      "execution_count": null,
      "outputs": [
        {
          "output_type": "stream",
          "name": "stdout",
          "text": [
            "endothermic-lerp\n",
            "sizzling-rosemary\n",
            "dry-cabinet\n",
            "bland-appreciation\n",
            "tiny-sub\n",
            "chalky-template\n",
            "nippy-inverse\n",
            "milky-source\n",
            "icy-cone\n",
            "fresh-container\n"
          ]
        }
      ]
    },
    {
      "cell_type": "code",
      "source": [
        "# Gerar um nome usando um formato personalizado\n",
        "nome = randomname.generate(\"v/fire\", \"a/music_theory\", \"n/cats\")\n",
        "\n",
        "# Imprimir o nome\n",
        "print(nome)"
      ],
      "metadata": {
        "colab": {
          "base_uri": "https://localhost:8080/"
        },
        "id": "yPAzeteoa7Wz",
        "outputId": "5e975cff-8569-4e02-de8c-dcb04da32743"
      },
      "execution_count": null,
      "outputs": [
        {
          "output_type": "stream",
          "name": "stdout",
          "text": [
            "burn-libretto-tom\n"
          ]
        }
      ]
    },
    {
      "cell_type": "code",
      "source": [
        "# Gerar um nome usando subcategorias de adjetivos e substantivos\n",
        "nome = randomname.get_name(adj=(\"colors\",), noun=(\"cats\", \"food\"))\n",
        "\n",
        "# Imprimir o nome\n",
        "print(nome)\n"
      ],
      "metadata": {
        "colab": {
          "base_uri": "https://localhost:8080/"
        },
        "id": "hAUCr9F_bAL6",
        "outputId": "75ae2e97-8195-4a04-9324-8be7266f0502"
      },
      "execution_count": null,
      "outputs": [
        {
          "output_type": "stream",
          "name": "stdout",
          "text": [
            "coal-nut\n"
          ]
        }
      ]
    },
    {
      "cell_type": "markdown",
      "source": [
        "# Nameparser:\n",
        "Uma biblioteca que analisa nomes humanos em seus componentes individuais, como título, primeiro nome, sobrenome e sufixo. Você pode instalar com pip install nameparser e usar a classe HumanName para criar um objeto que representa um nome. Você pode acessar os atributos do objeto para obter as partes do nome ou usar os métodos as_dict e string_format para personalizar a saída."
      ],
      "metadata": {
        "id": "XS1r5AA1bDjx"
      }
    },
    {
      "cell_type": "code",
      "source": [],
      "metadata": {
        "id": "nYxNwIspbIbZ"
      },
      "execution_count": null,
      "outputs": []
    },
    {
      "cell_type": "code",
      "source": [
        "# Gerar um nome no formato adjetivo-substantivo\n",
        "nome = randomname.generate()\n",
        "\n",
        "# Imprimir o nome\n",
        "print(nome)"
      ],
      "metadata": {
        "colab": {
          "base_uri": "https://localhost:8080/"
        },
        "id": "I_M4Kdp9azPS",
        "outputId": "f48ad3e4-7733-44b9-a5d3-623c8ff19a8a"
      },
      "execution_count": null,
      "outputs": [
        {
          "output_type": "stream",
          "name": "stdout",
          "text": [
            "ash-nest\n"
          ]
        }
      ]
    },
    {
      "cell_type": "markdown",
      "source": [
        "# Faker:\n",
        "\n",
        "Uma biblioteca que ajuda a gerar dados falsos, como nomes, endereços, números de telefone, datas, textos, etc. O Faker suporta vários idiomas e localizações e permite criar provedores personalizados para gerar dados específicos.\n",
        "\n",
        "Em Faker, existem 57 locais disponíveis que você pode usar para gerar dados falsos em diferentes idiomas e formatos. \n",
        "\n",
        "Alguns são: \n",
        "ar: Árabe\n",
        "de: Alemão\n",
        "de_AT: Alemão (Áustria)\n",
        "en_CA: Inglês (Canadá)\n",
        "en_US: Inglês (Estados Unidos)\n",
        "es: Espanhol\n",
        "de: Alemão\n",
        "de_AT: Alemão (Áustria)\n",
        "pt_BR: Português (Brasil)\n",
        "pt_PT: Português (Portugal)\n",
        "ro: Romeno\n",
        "ru: Russo\n",
        "sk: Eslovaco\n",
        "sv: Sueco\n",
        "tr: Turco\n",
        "uk: Ucraniano"
      ],
      "metadata": {
        "id": "34FjILq_bIoy"
      }
    },
    {
      "cell_type": "code",
      "source": [
        "from faker import Faker\n",
        "fake = Faker()\n",
        "\n",
        "fake.name()\n",
        "\n"
      ],
      "metadata": {
        "colab": {
          "base_uri": "https://localhost:8080/",
          "height": 35
        },
        "id": "Eug9auzWbk44",
        "outputId": "1f2852df-cd0e-4f3a-d8ff-8cd18a47734b"
      },
      "execution_count": null,
      "outputs": [
        {
          "output_type": "execute_result",
          "data": {
            "text/plain": [
              "'Nicholas Adkins'"
            ],
            "application/vnd.google.colaboratory.intrinsic+json": {
              "type": "string"
            }
          },
          "metadata": {},
          "execution_count": 17
        }
      ]
    },
    {
      "cell_type": "code",
      "source": [
        "fake.address()"
      ],
      "metadata": {
        "colab": {
          "base_uri": "https://localhost:8080/",
          "height": 35
        },
        "id": "Bj1nnRIwcbpG",
        "outputId": "e2546d1c-4345-4e62-9b43-139e5164fc21"
      },
      "execution_count": null,
      "outputs": [
        {
          "output_type": "execute_result",
          "data": {
            "text/plain": [
              "'282 Bautista Village\\nArroyoside, WA 14156'"
            ],
            "application/vnd.google.colaboratory.intrinsic+json": {
              "type": "string"
            }
          },
          "metadata": {},
          "execution_count": 19
        }
      ]
    },
    {
      "cell_type": "code",
      "source": [
        "fake.text()"
      ],
      "metadata": {
        "colab": {
          "base_uri": "https://localhost:8080/",
          "height": 35
        },
        "id": "WQavQooRccKJ",
        "outputId": "cc367694-2ce2-4f04-efa9-7f2782eec478"
      },
      "execution_count": null,
      "outputs": [
        {
          "output_type": "execute_result",
          "data": {
            "text/plain": [
              "'Important this weight boy allow special result. Challenge might party early.\\nColor when let friend. Once last box explain candidate education.'"
            ],
            "application/vnd.google.colaboratory.intrinsic+json": {
              "type": "string"
            }
          },
          "metadata": {},
          "execution_count": 18
        }
      ]
    },
    {
      "cell_type": "code",
      "source": [
        "for _ in range(10):\n",
        "  print(fake.name())"
      ],
      "metadata": {
        "colab": {
          "base_uri": "https://localhost:8080/"
        },
        "id": "hqRqpsQNckdS",
        "outputId": "e4d2678a-c916-4788-c9df-9d2d86425b4d"
      },
      "execution_count": null,
      "outputs": [
        {
          "output_type": "stream",
          "name": "stdout",
          "text": [
            "Joshua Day\n",
            "Billy Smith\n",
            "Tanya Leonard\n",
            "Robert Taylor\n",
            "Matthew Hawkins\n",
            "Gary Ray\n",
            "Luis Smith\n",
            "Steven Rodriguez\n",
            "Brenda Martin\n",
            "Andrew Young\n"
          ]
        }
      ]
    },
    {
      "cell_type": "code",
      "source": [
        "from faker import Faker\n",
        "from faker.providers import internet\n",
        "\n",
        "fake = Faker()\n",
        "fake.add_provider(internet)\n",
        "\n",
        "print(fake.ipv4_private())"
      ],
      "metadata": {
        "colab": {
          "base_uri": "https://localhost:8080/"
        },
        "id": "iKyepL9qctp4",
        "outputId": "b72967e3-e774-42e3-86a6-69aabbf1a13b"
      },
      "execution_count": null,
      "outputs": [
        {
          "output_type": "stream",
          "name": "stdout",
          "text": [
            "192.168.150.168\n"
          ]
        }
      ]
    },
    {
      "cell_type": "markdown",
      "source": [
        "Gerando nomes de origen Brasileiro"
      ],
      "metadata": {
        "id": "wS3-194LdZ8B"
      }
    },
    {
      "cell_type": "code",
      "source": [
        "# Gera um nome completo aleatório de origen Brasileiro\n",
        "from faker import Faker\n",
        "fake = Faker('pt_BR')\n",
        "for _ in range(10):\n",
        "    print(fake.name())"
      ],
      "metadata": {
        "colab": {
          "base_uri": "https://localhost:8080/"
        },
        "id": "bl7fZWjsc1-b",
        "outputId": "af1ebdde-4426-4337-c705-c92295d19e16"
      },
      "execution_count": null,
      "outputs": [
        {
          "output_type": "stream",
          "name": "stdout",
          "text": [
            "João Felipe Moreira\n",
            "Isabel da Costa\n",
            "Srta. Ana Vitória Carvalho\n",
            "Renan Jesus\n",
            "João Correia\n",
            "Stella Porto\n",
            "Lorena Costela\n",
            "Emanuella da Rocha\n",
            "Enzo Gabriel Correia\n",
            "João Felipe Mendes\n"
          ]
        }
      ]
    },
    {
      "cell_type": "code",
      "source": [
        "# Gera um nome completo aleatório dem três idiomas\n",
        "from faker import Faker\n",
        "fake = Faker(['it_IT', 'en_US', 'ja_JP'])\n",
        "for _ in range(10):\n",
        "    print(fake.name())\n"
      ],
      "metadata": {
        "colab": {
          "base_uri": "https://localhost:8080/"
        },
        "id": "o14kFcidc810",
        "outputId": "4510a4a9-7b5e-4c97-9452-2e25c795cab5"
      },
      "execution_count": null,
      "outputs": [
        {
          "output_type": "stream",
          "name": "stdout",
          "text": [
            "田中 稔\n",
            "渡辺 智也\n",
            "石井 修平\n",
            "Charles Flores\n",
            "Robert White\n",
            "Gabriele Pacetti-Ruggeri\n",
            "Eric Dickerson\n",
            "Annamaria Fermi\n",
            "鈴木 さゆり\n",
            "Kyle Pena\n"
          ]
        }
      ]
    },
    {
      "cell_type": "code",
      "source": [],
      "metadata": {
        "id": "i4OtBVrMclS8"
      },
      "execution_count": null,
      "outputs": []
    }
  ],
  "metadata": {
    "colab": {
      "provenance": [],
      "name": "SimulandoNomesNadiDuno.ipynb",
      "authorship_tag": "ABX9TyO/j0i50m+QF8on7FffXQHO",
      "include_colab_link": true
    },
    "kernelspec": {
      "display_name": "Python 3",
      "name": "python3"
    },
    "language_info": {
      "name": "python"
    }
  },
  "nbformat": 4,
  "nbformat_minor": 0
}