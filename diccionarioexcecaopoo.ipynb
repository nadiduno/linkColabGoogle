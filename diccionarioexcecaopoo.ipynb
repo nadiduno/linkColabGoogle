{
  "nbformat": 4,
  "nbformat_minor": 0,
  "metadata": {
    "colab": {
      "provenance": [],
      "authorship_tag": "ABX9TyPuJNsc9JJcqXEOcg88Rj8b",
      "include_colab_link": true
    },
    "kernelspec": {
      "name": "python3",
      "display_name": "Python 3"
    },
    "language_info": {
      "name": "python"
    }
  },
  "cells": [
    {
      "cell_type": "markdown",
      "metadata": {
        "id": "view-in-github",
        "colab_type": "text"
      },
      "source": [
        "<a href=\"https://colab.research.google.com/github/nadiduno/linkColabGoogle/blob/main/diccionarioexcecaopoo.ipynb\" target=\"_parent\"><img src=\"https://colab.research.google.com/assets/colab-badge.svg\" alt=\"Open In Colab\"/></a>"
      ]
    },
    {
      "cell_type": "markdown",
      "source": [
        "#Estudando \n",
        "##Diccionários, Exeção e Programação Orenada Objeto em **Python**\n",
        "\n",
        "by [Nadi Duno](https://www.linkedin.com/in/nadiduno/)"
      ],
      "metadata": {
        "id": "dozgYeOADZFI"
      }
    },
    {
      "cell_type": "markdown",
      "source": [
        "#Diccionário"
      ],
      "metadata": {
        "id": "aGoo0fwZTJ60"
      }
    },
    {
      "cell_type": "code",
      "source": [
        "#Declar diccionário em Python é com {}\n",
        "#Tem chave e valor, name é a chave (são as variaveis) e Nadi e o valor dessa chave\n",
        "people = {\n",
        "    'name':'Nadi',\n",
        "    'age':40,\n",
        "    'country':'Venezuela',\n",
        "    'profession':'Professora'\n",
        "}\n",
        "#Imprimir o Diccionário\n",
        "print('Diccionário pessoa')\n",
        "print(people)\n",
        "#Imprimir uma chave\n",
        "print('O valor do nome é')\n",
        "print(people['name'])\n",
        "#Posso imprimir com get também\n",
        "print('A profissão é')\n",
        "print(people.get('profession'))\n",
        "#Pop para remover uma chave\n",
        "people.pop('profession')\n",
        "print('Eliminando a profissão do diccionário')\n",
        "print(people)\n",
        "#Keys para mostrar todas as chaves\n",
        "print('As chaves são')\n",
        "print(people.keys())\n",
        "#Items mostrar tudo\n",
        "print('Chaves e valor')\n",
        "print(people.items())\n",
        "#Adicionar uma nova chave com um valor x\n",
        "people['telephone']='71984338160'\n",
        "print('Adiccionando o telefone ao diccionário')\n",
        "print(people)"
      ],
      "metadata": {
        "colab": {
          "base_uri": "https://localhost:8080/"
        },
        "id": "-K6vizF5TKS-",
        "outputId": "e2d24932-04a8-4d4f-de9b-508bd903f589"
      },
      "execution_count": null,
      "outputs": [
        {
          "output_type": "stream",
          "name": "stdout",
          "text": [
            "Diccionário pessoa\n",
            "{'name': 'Nadi', 'age': 40, 'country': 'Venezuela', 'profession': 'Professora'}\n",
            "O valor do nome é\n",
            "Nadi\n",
            "A profissão é\n",
            "Professora\n",
            "Eliminando a profissão do diccionário\n",
            "{'name': 'Nadi', 'age': 40, 'country': 'Venezuela'}\n",
            "As chaves são\n",
            "dict_keys(['name', 'age', 'country'])\n",
            "Chaves e valor\n",
            "dict_items([('name', 'Nadi'), ('age', 40), ('country', 'Venezuela')])\n",
            "Adiccionando o telefone ao diccionário\n",
            "{'name': 'Nadi', 'age': 40, 'country': 'Venezuela', 'telephone': '71984338160'}\n"
          ]
        }
      ]
    },
    {
      "cell_type": "code",
      "source": [
        "user = [\n",
        "    {\n",
        "      'id':0,\n",
        "      'email':'nadiduno@gmai.com',\n",
        "      'login':'nadiduno',\n",
        "      'senha':'*****'\n",
        "    },\n",
        "    {\n",
        "      'id':1,\n",
        "      'email':'asmeninasvenezuelanas@gmai.com',\n",
        "      'login':'meninavenezuelana',\n",
        "      'senha':'*****'\n",
        "    }\n",
        "]\n",
        "#Mostar os dados do 1er usuario\n",
        "print('Primeiro usuario cadastrado')\n",
        "print(user[0])\n",
        "#Mostar o email do 1er usuario\n",
        "print('\\nO email dele é')"
      ],
      "metadata": {
        "colab": {
          "base_uri": "https://localhost:8080/"
        },
        "id": "Xp-NTE_KTOJJ",
        "outputId": "d4a9c0f8-e48c-49b6-cbd8-c03feb0675fb"
      },
      "execution_count": null,
      "outputs": [
        {
          "output_type": "stream",
          "name": "stdout",
          "text": [
            "Primeiro usuario cadastrado\n",
            "{'id': 0, 'email': 'nadiduno@gmai.com', 'login': 'nadiduno', 'senha': '*****'}\n",
            "\n",
            "O email dele é\n"
          ]
        }
      ]
    },
    {
      "cell_type": "code",
      "source": [
        "#--------------------------------------------------\n",
        "# Livros de uma biblioteca\n",
        "#--------------------------------------------------\n",
        "Livros = {\n",
        "    \"título\": \"Frankenstein\",\n",
        "    \"data\": \"1818\",\n",
        "    \"autor\": \"Mary Shelley\",\n",
        "    \"gênero\": \"Terror, Suspense, Clássico\"\n",
        "}\n",
        "# Imprime todos os livros no objeto\n",
        "print(Livros.items())\n",
        "\n",
        "# Imprime um item em específico do dicionário\n",
        "print(\"\\n\" + \"Título: \" + Livros.get(\"título\"))\n",
        "# Imprime as chaves das propriedades\n",
        "print(\"\\n\" + \"Chaves no dicionário: \" + str(Livros.keys()))\n",
        "# Imprime as chaves removidas\n",
        "print(\"\\n\" + \"Chaves removidas: \" + Livros.pop(\"gênero\"))\n",
        "# Imprime as chaves adicionadas\n",
        "Livros['descrição'] = \"Um universitário que fica obcecado em seus estudos.\"\n",
        "print(\"\\n\" + \"Descrição adicionada: \" + str(Livros))"
      ],
      "metadata": {
        "colab": {
          "base_uri": "https://localhost:8080/"
        },
        "id": "E3RfD5RwDSHz",
        "outputId": "15fb976b-f7db-4ffe-9c42-4658041e4f49"
      },
      "execution_count": null,
      "outputs": [
        {
          "output_type": "stream",
          "name": "stdout",
          "text": [
            "dict_items([('título', 'Frankenstein'), ('data', '1818'), ('autor', 'Mary Shelley'), ('gênero', 'Terror, Suspense, Clássico')])\n",
            "\n",
            "Título: Frankenstein\n",
            "\n",
            "Chaves no dicionário: dict_keys(['título', 'data', 'autor', 'gênero'])\n",
            "\n",
            "Chaves removidas: Terror, Suspense, Clássico\n",
            "\n",
            "Descrição adicionada: {'título': 'Frankenstein', 'data': '1818', 'autor': 'Mary Shelley', 'descrição': 'Um universitário que fica obcecado em seus estudos.'}\n"
          ]
        }
      ]
    },
    {
      "cell_type": "markdown",
      "source": [
        "Exeção"
      ],
      "metadata": {
        "id": "T7FGeWedTXgw"
      }
    },
    {
      "cell_type": "code",
      "source": [
        "#Try para evitar erro e sempre vai com Except\n",
        "#Em caso de dar erro vai para except\n",
        "try:\n",
        "  print(newnumber4)\n",
        "except Exception as error:\n",
        "  print('Ocurreu um erro: ',error)"
      ],
      "metadata": {
        "colab": {
          "base_uri": "https://localhost:8080/"
        },
        "id": "KiIT1PItTZXX",
        "outputId": "cd9d7beb-5eed-4dff-ead3-8b77b31e1d26"
      },
      "execution_count": null,
      "outputs": [
        {
          "output_type": "stream",
          "name": "stdout",
          "text": [
            "Ocurreu um erro:  name 'newnumber4' is not defined\n"
          ]
        }
      ]
    },
    {
      "cell_type": "code",
      "source": [
        "try:\n",
        "  print(newnumber4)\n",
        "except Exception as error:\n",
        "  print('Ocurreu um erro: ',error)\n",
        "else:\n",
        "  print('Sucesso na execução')"
      ],
      "metadata": {
        "colab": {
          "base_uri": "https://localhost:8080/"
        },
        "id": "P3NaNZgITjLg",
        "outputId": "b8b5cc40-f6a9-45f0-a140-83224a9413ad"
      },
      "execution_count": null,
      "outputs": [
        {
          "output_type": "stream",
          "name": "stdout",
          "text": [
            "Ocurreu um erro:  name 'newnumber4' is not defined\n"
          ]
        }
      ]
    },
    {
      "cell_type": "code",
      "source": [
        "#Entra no esle senão da erro\n",
        "newnumber5 =0\n",
        "try:\n",
        "  print(newnumber5)\n",
        "except Exception as error:\n",
        "  print('Ocurreu um erro: ',error)\n",
        "else:\n",
        "  print('Sucesso na execução')"
      ],
      "metadata": {
        "colab": {
          "base_uri": "https://localhost:8080/"
        },
        "id": "KMptWn9jEgCi",
        "outputId": "48fc36ae-4cde-487e-e04b-931ee772e8fb"
      },
      "execution_count": null,
      "outputs": [
        {
          "output_type": "stream",
          "name": "stdout",
          "text": [
            "0\n",
            "Sucesso na execução\n"
          ]
        }
      ]
    },
    {
      "cell_type": "code",
      "source": [
        "#Independiente do erro ou sucesso sempre entra no Finally\n",
        "try:\n",
        "  print(newnumber6)\n",
        "except Exception as error:\n",
        "  print('Ocurreu um erro: ',error)\n",
        "else:\n",
        "  print('Sucesso na execução')\n",
        "finally:\n",
        "  newnumber6=0\n",
        "  print('Le asignamos um valor a sua variavel')\n",
        "print(newnumber6)"
      ],
      "metadata": {
        "colab": {
          "base_uri": "https://localhost:8080/"
        },
        "id": "sO3rv9n8Tjq9",
        "outputId": "8681bed0-aed1-4404-8c79-2e85817750dd"
      },
      "execution_count": null,
      "outputs": [
        {
          "output_type": "stream",
          "name": "stdout",
          "text": [
            "Ocurreu um erro:  name 'newnumber6' is not defined\n",
            "Le asignamos um valor a sua variavel\n",
            "0\n"
          ]
        }
      ]
    },
    {
      "cell_type": "code",
      "source": [
        "x = \"oi\"\n",
        "try: \n",
        "  float(x)\n",
        "except:\n",
        "  print(\"Variável não pode ser convertida para float \\n\")\n",
        "else:\n",
        "  print(\"A variável tem o valor: \" + str(x))\n",
        "finally: \n",
        "  print(\"\\n Mude o valor da variável e teste sempre por erros.\")"
      ],
      "metadata": {
        "colab": {
          "base_uri": "https://localhost:8080/"
        },
        "id": "r-9wBZLAEJxQ",
        "outputId": "4324fdb8-9cc1-451d-8b71-e78cdf2af557"
      },
      "execution_count": null,
      "outputs": [
        {
          "output_type": "stream",
          "name": "stdout",
          "text": [
            "Variável não pode ser convertida para float \n",
            "\n",
            "\n",
            " Mude o valor da variável e teste sempre por erros.\n"
          ]
        }
      ]
    },
    {
      "cell_type": "markdown",
      "source": [
        "POO"
      ],
      "metadata": {
        "id": "p5sk7kECTkXF"
      }
    },
    {
      "cell_type": "code",
      "source": [
        "class People:\n",
        "  def __init__(self, cpf, name, email):\n",
        "    self.cpf = cpf\n",
        "    self.name = name\n",
        "    self.email = email\n",
        "\n",
        "  def register(self):\n",
        "    print(\"A pessoa\", self.name, \"foi cadastrada com sucesso!\")\n",
        "  \n",
        "record = People(17788529710, \"Nadi\", \"nadiduno@gmail.com\")\n",
        "record.register()\n",
        "\n",
        "#Atributos: são os campos --> cpf, name, email\n",
        "#Método: é a função --> register \n",
        "#Instância: é o objeto --> record"
      ],
      "metadata": {
        "colab": {
          "base_uri": "https://localhost:8080/"
        },
        "id": "PXscG3NJTlyV",
        "outputId": "bd4ea68c-cb70-4045-d649-4ae1d93a93db"
      },
      "execution_count": null,
      "outputs": [
        {
          "output_type": "stream",
          "name": "stdout",
          "text": [
            "A pessoa Nadi foi cadastrada com sucesso!\n"
          ]
        }
      ]
    },
    {
      "cell_type": "code",
      "source": [
        "class Car:\n",
        "  def __init__(self,model,year):\n",
        "    self.model = model\n",
        "    self.year = year\n",
        "\n",
        "  def honk(self):\n",
        "    print('O',self.model,'faz bibi')\n",
        "  \n",
        "c = Car('Corolla','2023')\n",
        "c.honk()"
      ],
      "metadata": {
        "colab": {
          "base_uri": "https://localhost:8080/"
        },
        "id": "Md-9buyhUxdk",
        "outputId": "5a437fa7-d9e1-43d9-82d5-7834f11ccef1"
      },
      "execution_count": null,
      "outputs": [
        {
          "output_type": "stream",
          "name": "stdout",
          "text": [
            "O Corolla faz bibi\n"
          ]
        }
      ]
    },
    {
      "cell_type": "markdown",
      "source": [
        "O super() é utilizado entre heranças de classes, ele nos proporciona extender/subscrever métodos de uma super classe (classe pai) para uma sub classe (classe filha), atrávez dele definimos um novo comportamento para um determinado método construido na classe pai e herdado pela classe filha."
      ],
      "metadata": {
        "id": "Zu2cybt5bMcP"
      }
    },
    {
      "cell_type": "code",
      "source": [
        "_(self):\n",
        "    print('Construindo a classe Pai')\n",
        "\n",
        "class Daughter(Father):\n",
        "  def __init__(self):\n",
        "    super(Daughter, self).__init__()"
      ],
      "metadata": {
        "id": "GCjoWbhAbNaU"
      },
      "execution_count": null,
      "outputs": []
    },
    {
      "cell_type": "code",
      "source": [
        "#Classe pai - Super classe \n",
        "class Trasnport:\n",
        "  def rum(self):\n",
        "    print('rum rum')\n",
        "  def frar(self):\n",
        "    print('freeeee')\n",
        "\n",
        "# Clase filha, hereda os atributos do pai (transporte) pode correr e frenar como os outros transportes\n",
        "#E particularmente ele pode buzinar a diferença de outros transportes\n",
        "class Car(Trasnport):\n",
        "  def honk(self):\n",
        "    print('bibi')\n",
        "\n",
        "c = Car()\n",
        "#Posso usar os métodos do pai\n",
        "print('Todos os transportes correm e freiam')\n",
        "c.rum()\n",
        "c.frar()\n",
        "#Método propio do carro\n",
        "print('\\nMas não todos Buzinam')\n",
        "c.honk()\n"
      ],
      "metadata": {
        "colab": {
          "base_uri": "https://localhost:8080/"
        },
        "id": "XOiJt8Blb_DW",
        "outputId": "3d13b871-4fbd-426b-9683-026ca085c09b"
      },
      "execution_count": null,
      "outputs": [
        {
          "output_type": "stream",
          "name": "stdout",
          "text": [
            "Todos os transportes correm e freiam\n",
            "rum rum\n",
            "freeeee\n",
            "\n",
            "Mas não todos Buzinam\n",
            "bibi\n"
          ]
        }
      ]
    },
    {
      "cell_type": "code",
      "source": [
        "class Vehicle:\n",
        "  def __init__(self,model,year):\n",
        "    self.model = model\n",
        "    self.year = year\n",
        "  \n",
        "  def honk(self):\n",
        "    print('biiiibi')\n",
        "  \n",
        "  def sound(self):\n",
        "    honk()\n",
        "\n",
        "def honk():\n",
        "  print('fonfon')\n",
        "\n",
        "#Chamando a função\n",
        "honk()\n",
        "#Chamando o método da clasee\n",
        "v = Vehicle('Yeep',2020)\n",
        "v.honk()\n",
        "v.sound()"
      ],
      "metadata": {
        "colab": {
          "base_uri": "https://localhost:8080/"
        },
        "id": "x2WBISRg0xyw",
        "outputId": "241a9bed-7a93-496d-b051-1300222e9a89"
      },
      "execution_count": null,
      "outputs": [
        {
          "output_type": "stream",
          "name": "stdout",
          "text": [
            "fonfon\n",
            "biiiibi\n",
            "fonfon\n"
          ]
        }
      ]
    },
    {
      "cell_type": "code",
      "source": [
        "# -------------------------------------------------\n",
        "# Classe com Constructor de Inicialização\n",
        "# -------------------------------------------------\n",
        "class Compras:\n",
        "  # ----------------------------------------------\n",
        "  # Atributos (variáveis) no Método (função)\n",
        "  # ----------------------------------------------\n",
        "  def __init__(self, tipo, nome, preco):\n",
        "    self.tipo = tipo\n",
        "    self.nome = nome\n",
        "    self.preco = preco\n",
        "# -------------------------------------------------\n",
        "# Método Próprio\n",
        "# -------------------------------------------------\n",
        "  def cadastro(self):\n",
        "    print(self.nome)\n",
        "\n",
        "ComprasDoMes = Compras(\"Tubérculo\", \"Batata\", 2.99)\n",
        "\n",
        "print(ComprasDoMes.tipo)\n",
        "print(ComprasDoMes.nome)\n",
        "print(ComprasDoMes.preco)\n",
        "# -------------------------------------------------\n",
        "# Classe com métodos personalizados\n",
        "# -------------------------------------------------\n",
        "class Pessoa:\n",
        "  def __init__(meuobjeto_Parametro, name, age):\n",
        "    meuobjeto_Parametro.name = name\n",
        "    meuobjeto_Parametro.age = age\n",
        "\n",
        "  def minhafuncao(saudacao):\n",
        "    print(\"Olá, O meu nome é: \" + saudacao.name)\n",
        "\n",
        "p1 = Pessoa(\"Alfredo\", 42)\n",
        "p1.minhafuncao() "
      ],
      "metadata": {
        "colab": {
          "base_uri": "https://localhost:8080/"
        },
        "id": "GHhEtPuIFd4J",
        "outputId": "6f1a8330-c3f5-4b99-ed1c-ed69d4bd8ab3"
      },
      "execution_count": null,
      "outputs": [
        {
          "output_type": "stream",
          "name": "stdout",
          "text": [
            "Tubérculo\n",
            "Batata\n",
            "2.99\n",
            "Olá, O meu nome é: Alfredo\n"
          ]
        }
      ]
    }
  ]
}