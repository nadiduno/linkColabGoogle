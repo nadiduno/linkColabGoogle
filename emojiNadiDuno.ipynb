{
  "nbformat": 4,
  "nbformat_minor": 0,
  "metadata": {
    "colab": {
      "provenance": [],
      "name": "emojiNadiDuno.ipynb",
      "authorship_tag": "ABX9TyOSACad8sblSv2ozaDKBuWW",
      "include_colab_link": true
    },
    "kernelspec": {
      "name": "python3",
      "display_name": "Python 3"
    },
    "language_info": {
      "name": "python"
    }
  },
  "cells": [
    {
      "cell_type": "markdown",
      "metadata": {
        "id": "view-in-github",
        "colab_type": "text"
      },
      "source": [
        "<a href=\"https://colab.research.google.com/github/nadiduno/linkColabGoogle/blob/main/emojiNadiDuno.ipynb\" target=\"_parent\"><img src=\"https://colab.research.google.com/assets/colab-badge.svg\" alt=\"Open In Colab\"/></a>"
      ]
    },
    {
      "cell_type": "markdown",
      "source": [
        "DevRel Nadi Duno\n",
        "<a link"
      ],
      "metadata": {
        "id": "Zhg1nrfd_OjX"
      }
    },
    {
      "cell_type": "code",
      "execution_count": null,
      "metadata": {
        "colab": {
          "base_uri": "https://localhost:8080/"
        },
        "id": "y7_JMvtR8SXA",
        "outputId": "79ed6103-c89b-4af6-8b1c-4f4c64ca4780"
      },
      "outputs": [
        {
          "output_type": "stream",
          "name": "stdout",
          "text": [
            "Collecting emoji\n",
            "  Downloading emoji-2.8.0-py2.py3-none-any.whl (358 kB)\n",
            "\u001b[2K     \u001b[90m━━━━━━━━━━━━━━━━━━━━━━━━━━━━━━━━━━━━━━━━\u001b[0m \u001b[32m358.9/358.9 kB\u001b[0m \u001b[31m5.6 MB/s\u001b[0m eta \u001b[36m0:00:00\u001b[0m\n",
            "\u001b[?25hInstalling collected packages: emoji\n",
            "Successfully installed emoji-2.8.0\n"
          ]
        }
      ],
      "source": [
        "pip install emoji"
      ]
    },
    {
      "cell_type": "code",
      "source": [
        "import emoji"
      ],
      "metadata": {
        "id": "8IZ1BDoi8jNp"
      },
      "execution_count": null,
      "outputs": []
    },
    {
      "cell_type": "code",
      "source": [
        "print(emoji.emojize('Emojis :thumbs_up:'), 'em python')\n",
        "#Usar nome do emoji em inglês ou português\n",
        "print(emoji.emojize('Disponível em português também , só definir a linguagem :polegar_para_cima:', language='pt'))"
      ],
      "metadata": {
        "colab": {
          "base_uri": "https://localhost:8080/"
        },
        "id": "GU7bYDs88mBO",
        "outputId": "f2a4c93b-460d-47c1-8b68-d56220574545"
      },
      "execution_count": null,
      "outputs": [
        {
          "output_type": "stream",
          "name": "stdout",
          "text": [
            "Emojis 👍 em python\n",
            "Disponível em português também , só definir a linguagem 👍\n"
          ]
        }
      ]
    },
    {
      "cell_type": "code",
      "source": [
        "print(emoji.emojize('Com </:coração_roxo:> Nadi Duno',language='pt'))"
      ],
      "metadata": {
        "colab": {
          "base_uri": "https://localhost:8080/"
        },
        "id": "2SNUMppI-VUT",
        "outputId": "ff38ddbe-f16d-4617-a337-ad94571d0e2a"
      },
      "execution_count": null,
      "outputs": [
        {
          "output_type": "stream",
          "name": "stdout",
          "text": [
            "Com </💜> Nadi Duno\n"
          ]
        }
      ]
    },
    {
      "cell_type": "markdown",
      "source": [
        "#Pacote Emoji https://pypi.org/project/emoji/\n",
        "##Lista de Emojis em Português\n",
        "https://emojiterra.com/pt/coracao-roxo/"
      ],
      "metadata": {
        "id": "upQJ7tL3-vGO"
      }
    }
  ]
}