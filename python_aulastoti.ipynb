{
  "nbformat": 4,
  "nbformat_minor": 0,
  "metadata": {
    "colab": {
      "provenance": [],
      "include_colab_link": true
    },
    "kernelspec": {
      "name": "python3",
      "display_name": "Python 3"
    },
    "language_info": {
      "name": "python"
    }
  },
  "cells": [
    {
      "cell_type": "markdown",
      "metadata": {
        "id": "view-in-github",
        "colab_type": "text"
      },
      "source": [
        "<a href=\"https://colab.research.google.com/github/nadiduno/linkColabGoogle/blob/main/python_aulastoti.ipynb\" target=\"_parent\"><img src=\"https://colab.research.google.com/assets/colab-badge.svg\" alt=\"Open In Colab\"/></a>"
      ]
    },
    {
      "cell_type": "markdown",
      "source": [
        "# Aula 01 - Motivação"
      ],
      "metadata": {
        "id": "_GJW1INjnZ4z"
      }
    },
    {
      "cell_type": "markdown",
      "source": [
        "Nosso primeiro código em Python :) "
      ],
      "metadata": {
        "id": "fdx3oQw_nhA4"
      }
    },
    {
      "cell_type": "code",
      "execution_count": null,
      "metadata": {
        "colab": {
          "base_uri": "https://localhost:8080/"
        },
        "id": "ap3ofJ_JnVki",
        "outputId": "2df89ab7-214c-4eb7-fe87-1566bf48b5c9"
      },
      "outputs": [
        {
          "output_type": "stream",
          "name": "stdout",
          "text": [
            "Olá Pessoas!\n"
          ]
        }
      ],
      "source": [
        "print(\"Olá Pessoas!\")"
      ]
    },
    {
      "cell_type": "code",
      "source": [],
      "metadata": {
        "id": "B8oDFZTtFAnF"
      },
      "execution_count": null,
      "outputs": []
    },
    {
      "cell_type": "markdown",
      "source": [
        "# Título! \n",
        "\n",
        "* Tópico 1\n",
        "* Tópico 2"
      ],
      "metadata": {
        "id": "GDkwE2aCFBTb"
      }
    },
    {
      "cell_type": "markdown",
      "source": [
        "## Função de escrever código e texto\n",
        "\n",
        "No Google colab temos a opção de escrever uma parte texto e uma parte código. Assim podemos criar um documento completo, que tem o nosso código e uma explicação.\n"
      ],
      "metadata": {
        "id": "TGfk1nTuoMC4"
      }
    },
    {
      "cell_type": "markdown",
      "source": [
        "### Adicionar texto\n",
        "![Screen Shot 2022-07-18 at 20.27.55.png](data:image/png;base64,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)"
      ],
      "metadata": {
        "id": "QXtdt23pot0N"
      }
    },
    {
      "cell_type": "markdown",
      "source": [
        "### Adicionar código\n",
        "\n",
        "![Screen Shot 2022-07-18 at 20.28.53.png](data:image/png;base64,iVBORw0KGgoAAAANSUhEUgAAAI0AAAA5CAYAAAALBajGAAABRWlDQ1BJQ0MgUHJvZmlsZQAAKJFjYGASSSwoyGFhYGDIzSspCnJ3UoiIjFJgf8bAziAEhLwMKonJxQWOAQE+QCUMMBoVfLvGwAiiL+uCzHKMyDCYc/ufzWfu5Z+FVb1MMNWjAK6U1OJkIP0HiNOTC4pKGBgYU4Bs5fKSAhC7A8gWKQI6CsieA2KnQ9gbQOwkCPsIWE1IkDOQfQPIFkjOSASawfgCyNZJQhJPR2JD7QUBXh93hVCfkCDHcE8XVwLuJRmUpFaUgGjn/ILKosz0jBIFR2AopSp45iXr6SgYGRgZMTCAwhyi+vMNcFgyinEgxArEGBgsZgAFHyLE4oF+2C7HwMDfhxBTA/pXwIuB4eC+gsSiRLgDGL+xFKcZG0HY3NsZGFin/f//OZyBgV2TgeHv9f//f2/////vMgYG5lsMDAe+AQDTiWBBaUihgwAAAFZlWElmTU0AKgAAAAgAAYdpAAQAAAABAAAAGgAAAAAAA5KGAAcAAAASAAAARKACAAQAAAABAAAAjaADAAQAAAABAAAAOQAAAABBU0NJSQAAAFNjcmVlbnNob3R+3Hw0AAAB1WlUWHRYTUw6Y29tLmFkb2JlLnhtcAAAAAAAPHg6eG1wbWV0YSB4bWxuczp4PSJhZG9iZTpuczptZXRhLyIgeDp4bXB0az0iWE1QIENvcmUgNi4wLjAiPgogICA8cmRmOlJERiB4bWxuczpyZGY9Imh0dHA6Ly93d3cudzMub3JnLzE5OTkvMDIvMjItcmRmLXN5bnRheC1ucyMiPgogICAgICA8cmRmOkRlc2NyaXB0aW9uIHJkZjphYm91dD0iIgogICAgICAgICAgICB4bWxuczpleGlmPSJodHRwOi8vbnMuYWRvYmUuY29tL2V4aWYvMS4wLyI+CiAgICAgICAgIDxleGlmOlBpeGVsWURpbWVuc2lvbj41NzwvZXhpZjpQaXhlbFlEaW1lbnNpb24+CiAgICAgICAgIDxleGlmOlBpeGVsWERpbWVuc2lvbj4xNDE8L2V4aWY6UGl4ZWxYRGltZW5zaW9uPgogICAgICAgICA8ZXhpZjpVc2VyQ29tbWVudD5TY3JlZW5zaG90PC9leGlmOlVzZXJDb21tZW50PgogICAgICA8L3JkZjpEZXNjcmlwdGlvbj4KICAgPC9yZGY6UkRGPgo8L3g6eG1wbWV0YT4KV0P2mgAACnJJREFUeAHtnHmoTV8Ux9d7nnnIPA9JMsuQRIjyh1lSiIRIlDlC8Y9EJHNmkjEiFH8R8o9knucp8zzP089n/37rtu+559zhvfvu793zzqr79j77rLWHtb5n7bUHMpo3b/5HAgo0kIAGMhPgDVgDDRgNZCWqhz9/AseUqM7SgT8jIyPubsYFmgAoceszbRltG8cCUMzpya4sbTUSdDwhDcSyuaen8RL0Kk+oVwFzntOA07uonZ3ldNwVNCpgj+zHjx/y7ds3IXV7b/MG+fTSAMAoWLCgFC5c2KR277G1EziuoHEKAZavX79K0aJFpXjx4pKZGXNWs6sI8nlcA79//5bv37/Lp0+fpEiRIgY8TqDYQ4gAje1FyP/8+dMAplSpUlKgQAFbNsj7RAM4AcCCt3n//r2xc1ZWVsjDOL1NTJehHiYAjE8QEmUY2JjZBJtHozDQOL0MgniaQoUKRasjeOcjDWBrbA654YHyMNBQYBNC/IIYxtaKv/PYWu3uNVJX0CjCNPUSDsr9qwG1vab2SEOgcb50PttCQT5/aMCJAX0OgcZNDcrk9i4o87cGotk+Ysntb1Wkx+gqV64sDRo0MMvf06dP57lOB6CxTFKuXDlp06aNVKlSxawYHz58KHfv3pWLFy+GrSQskVzJNmnSRKZMmSLXr1+XADS5ouKcV8qm1ujRo6Vbt26uK8VLly7J0qVL5d69ezlvzAc15HtPA2Dmz58vjRo1MvsT+/btk6tXr8rbt2+lWrVq0rdvX2ncuLEsWrRIRo4cKS9evPCB2XM2hKiBcM6qTlwaww0aNMgYMHHp7EkMGDDAtMf2+eTJk2XlypVy9OhROXfunBw4cMAA5fLly+bMberUqdlrxGdSWa9evQoNyY6YyfNL5fHB8OHDpVWrVrJq1SrBULlNJUuWlIEDB5pmNmzYIFeuXIlokt1RpqbVq1dL06ZNTbzz5MmTCD4K8Fply5Y1XopD3nipRIkSZloEuIkQh8fFihWTly9fJj3mevPmjTl7sg8uNZ9l7/a6gSaRQaQbb+vWrc1H8e7dOzl48KBn9wmG+bgIlAlSnaCpXbu2DBs2TKgPxaLH+/fvC1Md3sqLOnbsKIMHD5YaNWoYFoy/fft2cwXFS4Zy2hk6dKjUqVPHsH3+/FnOnDkjy5cvl9evX0cTjfsduGAsChQENe8KGgYNA0fmfiYAABHDcE8oGo0bN84c5jm9QdWqVWXBggWC1wJY1FWhQgWpW7eujB8/Xlq2bClz586NqL9///6CZ4UA7e3bt43M2LFjoxoewMyaNcvI4Y1ps2HDhtKuXTsDaKZYAJtTwv7qUBQsmnqCBuAg5GfglC9f3uj26dOnMXXsFgCXKVNG5s2bZwCza9cuWbduXUhfgGb27NnGmL169ZLdu3eH2mBJj2eCNm3aJFu3bjXeCaPgfaZNm2beqZHMw98/eJYZM2bIr1+/hPiKrQCIaZElOrIjRoyQmTNnmvKc/LE9jfZD07/vMg04vNKcNJzXZUuXLm26aMd1ifS5e/fuUqlSJbl27ZqsWbMmBBjquHnzpllxkWcK4j6SEl4GfZ8/f162bNkSikf4UI8cOSKbN29W1rAUQHC77vDhwyHAwICXZFqD8ERMlzklLzz8V55/QYMCIL7c7BCrPQgv40YnTpwQvBjBKju8SgTU0P79+7UoLH327Jl5BkRK9FXrcJMj7nrw4IFhr1WrloplO40GmtD0pHEMrZDXX7Zb9RBkSc0870asnKBRo0Z58qxfvz5pKyuuN0J8vYmSbUQ1lrMOdEiswrEAez4QcjxDjx49Mmk8f5AHfIQLTHf8nKQrXbxfTol+Mh3pT+vjOUvnKS20UwadG6TgiFa3Fw+gSRZxTMBXX7FixYSrZCWFEaFoKxaWrpAakuU1VykhAuB4SaccjNm5c+eoYiz7k0EKGBsjBjR0ArIBkltehnbYNGMfxo3wQIDl5MmTnmcuydy/efz4sekGK6BY1KVLFyFwJg4hAAUM6AklsnLyAoAG2wAU+vjxo9l5BjgAyC3AduvLhw8fTDHtTpw40Y0lVKYeNFSQjQy4sL2NVmFAox1QoOD++LGpxQ31xYsXK39SUozuZXidtjikY0WR20SwCuFt8AQaSzjb5QokS2FWKdOnTzev0Q+gY9rgp6CwZVFwzZo1TRGHjxC6Jc6pXr26maaIReIhrZ8VG0cc7M3kJnFkwrgBtxNAWUuWLDFtu3kaBuhnOnv2rAEwAW2/fv1k2bJlrsNt3769AQxAsQEPuAFMnz59hKDXSX//Rw7BixFo2+C4cOGCAQ0HpMePH3eKhaYy+wUbf7rB2KNHD9m5c6f92uQBNf+qQL1SBEMCBWwfeHmaf+emBCrzG+vatWvNkHr27GnOmTSY1HFieLwMhCLtm/osl/niW7RoIZxh4VmU8CQTJkwwj+zF2JuHO3bsMFMby+PevXuriEnbtm1rlug82PXxUa9YscLwsISHzyaOFObMmWOmfo2f7PfJzGc0a9bMRLtengbUEvSlghYuXBg6e0rF9KRj6tSpk0yaNMmsogABu7pfvnwRlq66xc8hJju7tp6Q79Chg9lo4ytnJ5bzK+IYpjxWZSyPObtyEqvIIUOGmGKmHjxR/fr1zW4yXoU6bty4IWPGjAkTJZzo2rWrKWN/6NatW6aPeEumkj179hjgOPsZVkmMBzwacZqXp8n3VyPQHxtqd+7cMZ6GvRCNrVA8S+aNGze6Tj/IHjt2zIAFb8R2vu6REPAyhWzbtg22COKjABzsDOOV+CGjB6ccTbgRVzROnTpl5OrVq2eARhgBeA4dOiR79+51E0tqWeBpHOpkSmAJzjT1/Pnz0L8BcrC5PvKlE8Nwws3XSgwUD3FWRbuspBLxEMQvTEUE1omcqsfqUyxPk6dAozusDMoOOGMNMnifXA3EAk3E5h5I1wBM0+R2ybu2ACjeukn1G2yvP9pWLJBGrJ70Zao7GbSXPhqIAE36dD3oaao04HQkAWhSpXkftROAxkfGTNVQAtCkStM+aicAjY+MmaqhxAQNQZDfDy5Tpex0aAdbOwNfZ79jgoadUa5IBJQ/NICtnYe2zpGHQOOFLu5UcHiX3Xu0zgaD57yrAWyMrbG5GylGQqDxYgJ1nOByM41rAcFU5aap9C7DpoAFG2NrbK4AcRuZ6ym3CuiRAhVBVJyMq4RuHQnK/l8NcA0CD4Ot1f6kmrd7FwYaGOxTVn0mBX28w4XZPHZlQT49NaD2tT0MZTbZz2GgsZnIw6jMek+UckATAAdNpD+pjdW++qx2dxthBGhgBhB2iiCVcl9EY5oANG7qTL8yBYcTNIxE32mqo4sAjTIrcJSRFPdF5dEAE+2dXVeQT70GnMbXHlCu7zRvPyufpq6g4SVCNnDs5wAYqj5/pE6AOJ+do/QEDYw2UGxBrdQuC/LprwHbrnbeObKooIFZgaN5ZwXBs/80EA0wjNZ1c885/VCJ/txUZPPbeTfeeMoSrcPmt/PxtOXGk4w63OrNy2Vq31iAYQwhT4OiVIDUfnYOVvm0PNaz8mnqVrddFq19m0/r+7/b137kl/QfA8OxdAtWZ2IAAAAASUVORK5CYII=)"
      ],
      "metadata": {
        "id": "M6tZ5tYYovTq"
      }
    },
    {
      "cell_type": "markdown",
      "source": [
        "## Comentários no nosso código\n",
        "\n",
        "Além disso, podemos fazer comentários a respeito do nosso código. É comum fazermos isso quando tem uma linha que podemos esquecer o que faz e queremos deixar mais clara a explicação.\n",
        "\n",
        "Fazemos o comentário colocando #"
      ],
      "metadata": {
        "id": "n-DBZ1CdpQpu"
      }
    },
    {
      "cell_type": "code",
      "source": [
        "print(\"Olá pessoal!\") # o print serve para colocar uma mensagem para o usuário"
      ],
      "metadata": {
        "id": "8DozMOhLpPsN",
        "colab": {
          "base_uri": "https://localhost:8080/"
        },
        "outputId": "8392d8af-9433-41dc-b00f-b73f4ab35d90"
      },
      "execution_count": null,
      "outputs": [
        {
          "output_type": "stream",
          "name": "stdout",
          "text": [
            "Olá pessoal!\n"
          ]
        }
      ]
    },
    {
      "cell_type": "code",
      "source": [
        "2**4 # 2 elevado a 4"
      ],
      "metadata": {
        "colab": {
          "base_uri": "https://localhost:8080/"
        },
        "id": "enpZgaoo71S0",
        "outputId": "18c3ec5f-b0b4-4cc8-a39a-ebf7cdf2ce13"
      },
      "execution_count": null,
      "outputs": [
        {
          "output_type": "execute_result",
          "data": {
            "text/plain": [
              "16"
            ]
          },
          "metadata": {},
          "execution_count": 1
        }
      ]
    },
    {
      "cell_type": "code",
      "source": [
        "4 % 2 # mod - 4 mod 2\n"
      ],
      "metadata": {
        "colab": {
          "base_uri": "https://localhost:8080/"
        },
        "id": "lAcCUK5P8A0r",
        "outputId": "1db1aa75-95ec-4454-b48f-6c7f40e34135"
      },
      "execution_count": null,
      "outputs": [
        {
          "output_type": "execute_result",
          "data": {
            "text/plain": [
              "0"
            ]
          },
          "metadata": {},
          "execution_count": 3
        }
      ]
    },
    {
      "cell_type": "code",
      "source": [
        "x=8\n",
        "y=2\n",
        "z=x%2\n",
        "z"
      ],
      "metadata": {
        "colab": {
          "base_uri": "https://localhost:8080/"
        },
        "id": "EdG2g92q8GKn",
        "outputId": "b0373615-2aee-413f-d744-289b94b01eec"
      },
      "execution_count": null,
      "outputs": [
        {
          "output_type": "execute_result",
          "data": {
            "text/plain": [
              "0"
            ]
          },
          "metadata": {},
          "execution_count": 4
        }
      ]
    },
    {
      "cell_type": "code",
      "source": [
        "nome = \"Larissa\"\n",
        "peso = 55\n",
        "altura = 1.65\n",
        "\n",
        "imc = peso / (altura * altura)\n",
        "print(nome, \"seu IMC é\", imc)"
      ],
      "metadata": {
        "colab": {
          "base_uri": "https://localhost:8080/"
        },
        "id": "eDyoZcSN8WuP",
        "outputId": "1ad873ab-d7e2-4ed3-a7be-b203dc80f5d4"
      },
      "execution_count": null,
      "outputs": [
        {
          "output_type": "stream",
          "name": "stdout",
          "text": [
            "Larissa seu IMC é 20.202020202020204\n"
          ]
        }
      ]
    },
    {
      "cell_type": "code",
      "source": [
        "num_int = 22\n",
        "print(num_int)\n",
        "num_float = float(num_int)\n",
        "print(num_float)"
      ],
      "metadata": {
        "colab": {
          "base_uri": "https://localhost:8080/"
        },
        "id": "EwFElXYx8ZEv",
        "outputId": "3ee3f221-32f3-4238-aaad-944f1de94107"
      },
      "execution_count": null,
      "outputs": [
        {
          "output_type": "stream",
          "name": "stdout",
          "text": [
            "22\n",
            "22.0\n"
          ]
        }
      ]
    },
    {
      "cell_type": "code",
      "source": [
        "float(22) "
      ],
      "metadata": {
        "colab": {
          "base_uri": "https://localhost:8080/"
        },
        "id": "NYk_fjhk8nf-",
        "outputId": "310d1291-8764-4f4a-a955-22f631bfb296"
      },
      "execution_count": null,
      "outputs": [
        {
          "output_type": "execute_result",
          "data": {
            "text/plain": [
              "22.0"
            ]
          },
          "metadata": {},
          "execution_count": 8
        }
      ]
    },
    {
      "cell_type": "code",
      "source": [
        " int(22.8)"
      ],
      "metadata": {
        "colab": {
          "base_uri": "https://localhost:8080/"
        },
        "id": "0Xkv_CcX-zNK",
        "outputId": "8d044112-c4cd-4518-bd3a-4028af5aeeb0"
      },
      "execution_count": null,
      "outputs": [
        {
          "output_type": "execute_result",
          "data": {
            "text/plain": [
              "22"
            ]
          },
          "metadata": {},
          "execution_count": 9
        }
      ]
    },
    {
      "cell_type": "code",
      "source": [],
      "metadata": {
        "id": "-ge0BmIq-0e-"
      },
      "execution_count": null,
      "outputs": []
    }
  ]
}