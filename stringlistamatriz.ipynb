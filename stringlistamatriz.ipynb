{
  "nbformat": 4,
  "nbformat_minor": 0,
  "metadata": {
    "colab": {
      "provenance": [],
      "authorship_tag": "ABX9TyNzdRNHb4cAN6ECmvE8PEew",
      "include_colab_link": true
    },
    "kernelspec": {
      "name": "python3",
      "display_name": "Python 3"
    },
    "language_info": {
      "name": "python"
    }
  },
  "cells": [
    {
      "cell_type": "markdown",
      "metadata": {
        "id": "view-in-github",
        "colab_type": "text"
      },
      "source": [
        "<a href=\"https://colab.research.google.com/github/nadiduno/linkColabGoogle/blob/main/stringlistamatriz.ipynb\" target=\"_parent\"><img src=\"https://colab.research.google.com/assets/colab-badge.svg\" alt=\"Open In Colab\"/></a>"
      ]
    },
    {
      "cell_type": "markdown",
      "source": [
        "**Estudando** String - Listas e Matrices\n",
        "by [Nadi Duno](https://www.linkedin.com/in/nadiduno/)"
      ],
      "metadata": {
        "id": "BUGg2q7Wdq_P"
      }
    },
    {
      "cell_type": "markdown",
      "source": [
        "#String \n",
        "Cadeia de caracteres"
      ],
      "metadata": {
        "id": "ifi0rcoKeE-P"
      }
    },
    {
      "cell_type": "code",
      "source": [
        "nome='Nadi'\n",
        "#Posso acessar ao primer elelemto\n",
        "print(nome[0])\n",
        "#Posso acessar ao segundo elelemto\n",
        "print(nome[1])\n",
        "#Posso acessar ao ultimo elelemto\n",
        "print(nome[-1])\n",
        "#Contar o tamanho da string\n",
        "x=len(nome)\n",
        "print('A cadeia',nome,'tem ',x, 'caracteres')"
      ],
      "metadata": {
        "id": "Xt6ESpvGeJaQ",
        "colab": {
          "base_uri": "https://localhost:8080/"
        },
        "outputId": "d45db508-7855-4f2e-b0de-7daa4884613a"
      },
      "execution_count": null,
      "outputs": [
        {
          "output_type": "stream",
          "name": "stdout",
          "text": [
            "N\n",
            "a\n",
            "i\n",
            "A cadeia Nadi tem  4 caracteres\n"
          ]
        }
      ]
    },
    {
      "cell_type": "markdown",
      "source": [
        "#Listas\n",
        "Conjunto de elementos em uma dimensão (com vector em matemática)"
      ],
      "metadata": {
        "id": "h7EXNtnzeKFJ"
      }
    },
    {
      "cell_type": "code",
      "source": [
        "newlist=[1,2,3,4,'cinco',2]\n",
        "#Usamos um ciclo repetitivo (for) para recorrer a lista\n",
        "for i in newlist:\n",
        "  print(i)"
      ],
      "metadata": {
        "id": "9qNy3XPbeWbK",
        "colab": {
          "base_uri": "https://localhost:8080/"
        },
        "outputId": "3c31a770-ac25-4819-d20e-3b6ad3921ddb"
      },
      "execution_count": null,
      "outputs": [
        {
          "output_type": "stream",
          "name": "stdout",
          "text": [
            "1\n",
            "2\n",
            "3\n",
            "4\n",
            "cinco\n",
            "2\n"
          ]
        }
      ]
    },
    {
      "cell_type": "markdown",
      "source": [
        "Supondo a lista 1, 2, 3, 4, cinco e 2 se fizer a operação: 4 in lista o resultado vai ser:"
      ],
      "metadata": {
        "id": "TTQ6zZJKeysj"
      }
    },
    {
      "cell_type": "code",
      "source": [
        "newlist=[1,2,3,4,'cinco',2]\n",
        "print(4 in newlist)"
      ],
      "metadata": {
        "id": "JCu5FWize1f1"
      },
      "execution_count": null,
      "outputs": []
    },
    {
      "cell_type": "markdown",
      "source": [
        "Supondo a lista = [1, 2, 3, 4, 'cinco'] se fizer a operação: lista.pop(1) qual vai ser a nova lista resultante?"
      ],
      "metadata": {
        "id": "6ZCPXF2ye2KJ"
      }
    },
    {
      "cell_type": "code",
      "source": [
        " newlist = [1, 2, 3, 4,'cinco']\n",
        " x=newlist.pop(1)\n",
        " print('Minha lista é', newlist)\n",
        " print('Elemento eliminado',x)\n",
        " print('Nova lista')\n",
        " print(newlist)"
      ],
      "metadata": {
        "id": "zee6CtDJe5hL",
        "colab": {
          "base_uri": "https://localhost:8080/"
        },
        "outputId": "8007260a-9ffa-48bf-d25e-17abebcbaccb"
      },
      "execution_count": null,
      "outputs": [
        {
          "output_type": "stream",
          "name": "stdout",
          "text": [
            "Minha lista é [1, 3, 4, 'cinco']\n",
            "Elemento eliminado 2\n",
            "Nova lista\n",
            "[1, 3, 4, 'cinco']\n"
          ]
        }
      ]
    },
    {
      "cell_type": "markdown",
      "source": [
        "#Dupla\n",
        "\n",
        "Usando tupla não é permitido alterá-la, ela sempre terá o mesmo valor de que foi criada"
      ],
      "metadata": {
        "id": "bazx5PnDegnp"
      }
    },
    {
      "cell_type": "code",
      "source": [
        "newtupla=(1,2,3,2,2)\n",
        "newtupla[0]\n",
        "newtupla.count(2)"
      ],
      "metadata": {
        "colab": {
          "base_uri": "https://localhost:8080/"
        },
        "id": "-UkON-a4eh0B",
        "outputId": "fb2941be-211f-49ca-950b-bd4c269aaaf8"
      },
      "execution_count": null,
      "outputs": [
        {
          "output_type": "execute_result",
          "data": {
            "text/plain": [
              "3"
            ]
          },
          "metadata": {},
          "execution_count": 3
        }
      ]
    },
    {
      "cell_type": "markdown",
      "source": [
        "Usando a função len() posso saber o tamanho (logitude) de um strings, de uma lista e de uma dupla"
      ],
      "metadata": {
        "id": "H90u6tr6eiDI"
      }
    },
    {
      "cell_type": "code",
      "source": [
        "nome='Nadi'\n",
        "newlist=[1,2,3,4,5,6,7]\n",
        "newtupla=(1,2,3)\n",
        "x=len(nome)\n",
        "y=len(newlist)\n",
        "z=len(newtupla)\n",
        "print('Longitude de string',nome,'é',x)\n",
        "print('Longitude da lista',newlist,'é',y)\n",
        "print('Longitude da tupla',newtupla,'é',z)"
      ],
      "metadata": {
        "colab": {
          "base_uri": "https://localhost:8080/"
        },
        "id": "RRYTr_FUei_4",
        "outputId": "44f6af1d-45ab-43f5-ac1e-ffc422ddec0d"
      },
      "execution_count": null,
      "outputs": [
        {
          "output_type": "stream",
          "name": "stdout",
          "text": [
            "Longitude de string Nadi é 4\n",
            "Longitude da lista [1, 2, 3, 4, 5, 6, 7] é 7\n",
            "Longitude da tupla (1, 2, 3) é 3\n"
          ]
        }
      ]
    },
    {
      "cell_type": "code",
      "source": [
        "#Find para encontrar un elemento em um string\n",
        "nome='Nadi'\n",
        "nome.find('a')"
      ],
      "metadata": {
        "colab": {
          "base_uri": "https://localhost:8080/"
        },
        "id": "ydaCyS3VfYDq",
        "outputId": "99a9c372-9f36-4417-9171-03eae163574f"
      },
      "execution_count": null,
      "outputs": [
        {
          "output_type": "execute_result",
          "data": {
            "text/plain": [
              "1"
            ]
          },
          "metadata": {},
          "execution_count": 5
        }
      ]
    },
    {
      "cell_type": "code",
      "source": [
        "#Index para encontrar un elemento na lista\n",
        "number=['Nadi','Oi',3,4,2]\n",
        "number.index('Oi')"
      ],
      "metadata": {
        "colab": {
          "base_uri": "https://localhost:8080/"
        },
        "id": "2xAdm5KIflek",
        "outputId": "4a1f9b5d-91f6-4eb2-bf00-3ca4e1a9a4e0"
      },
      "execution_count": null,
      "outputs": [
        {
          "output_type": "execute_result",
          "data": {
            "text/plain": [
              "1"
            ]
          },
          "metadata": {},
          "execution_count": 6
        }
      ]
    },
    {
      "cell_type": "markdown",
      "source": [
        "#Matriz\n",
        "Conjunto de elementos multidimensional nxm onde n são as linhas (filas) e m são as colunas\n"
      ],
      "metadata": {
        "id": "97CCLiJpg1RZ"
      }
    },
    {
      "cell_type": "code",
      "source": [
        " matriz = [ [1, 2, 3], 4, [5, 6, 7], 8, [9, 10, 11] ]\n",
        " matriz[0]"
      ],
      "metadata": {
        "colab": {
          "base_uri": "https://localhost:8080/"
        },
        "id": "gbwHYptmhIFA",
        "outputId": "ccf4c6d2-58e6-4258-db91-1c1c09b2381e"
      },
      "execution_count": null,
      "outputs": [
        {
          "output_type": "execute_result",
          "data": {
            "text/plain": [
              "[1, 2, 3]"
            ]
          },
          "metadata": {},
          "execution_count": 11
        }
      ]
    },
    {
      "cell_type": "code",
      "source": [
        "lista = [ [1, 2, 3], 4, [5, 6, 7], 8, [9, 10, 11] ] \n",
        "print('Lista original',lista)\n",
        "#append() agrega um elemento ao final da lista\n",
        "lista[0].append(4)\n",
        "print('Lista nova',lista)\n"
      ],
      "metadata": {
        "colab": {
          "base_uri": "https://localhost:8080/"
        },
        "id": "xd4XUl9MiGmQ",
        "outputId": "8dca39c1-ee85-4cce-ae12-41dfeb99c909"
      },
      "execution_count": null,
      "outputs": [
        {
          "output_type": "execute_result",
          "data": {
            "text/plain": [
              "[[1, 2, 3, 17], 4, [5, 6, 7], 8, [9, 10, 11]]"
            ]
          },
          "metadata": {},
          "execution_count": 7
        }
      ]
    },
    {
      "cell_type": "code",
      "source": [
        "matriz = [ [1, 2, 3], 4, [5, 6, 7], 8, [9, 10, 11] ]\n",
        "print('Matriz original', matriz)\n",
        "#append() agrega um elemento ao final da lista de uma posição x\n",
        "#Aqui matriz1[0] o agrega na sub-lista da posição zero que é [1,2,3]\n",
        "matriz[0].append(16)\n",
        "print('Matriz nova', matriz)"
      ],
      "metadata": {
        "colab": {
          "base_uri": "https://localhost:8080/"
        },
        "id": "LdSdiGpWhoyp",
        "outputId": "d953fdac-9d28-408c-ce65-3df9975b6ff4"
      },
      "execution_count": null,
      "outputs": [
        {
          "output_type": "stream",
          "name": "stdout",
          "text": [
            "Matriz original [[1, 2, 3], 4, [5, 6, 7], 8, [9, 10, 11]]\n",
            "Matriz nova [[1, 2, 3, 16], 4, [5, 6, 7], 8, [9, 10, 11]]\n"
          ]
        }
      ]
    },
    {
      "cell_type": "code",
      "source": [
        "newmatriz=[['Nadi',10],['Nadia',8],['Nidia',9]]\n",
        "#Usamos dois ciclos repetitivos (for) para recorrer a matriz\n",
        "for i in newmatriz:\n",
        "  for j in i:\n",
        "    print(j)\n",
        "  print('\\n')\n"
      ],
      "metadata": {
        "colab": {
          "base_uri": "https://localhost:8080/"
        },
        "id": "GNFsGr9hlFap",
        "outputId": "20091b43-9a4b-4ad2-bf76-e2ca514d2576"
      },
      "execution_count": null,
      "outputs": [
        {
          "output_type": "stream",
          "name": "stdout",
          "text": [
            "Nadi\n",
            "10\n",
            "\n",
            "\n",
            "Nadia\n",
            "8\n",
            "\n",
            "\n",
            "Nidia\n",
            "9\n",
            "\n",
            "\n"
          ]
        }
      ]
    },
    {
      "cell_type": "markdown",
      "source": [
        "Ler os nomes e notas de 3 alunos.\n",
        "Calcular a média da turma\n",
        "Listar os alunos que tiver nota acima da média"
      ],
      "metadata": {
        "id": "ecPQOOGLqqZe"
      }
    },
    {
      "cell_type": "code",
      "source": [
        "turma=[]\n",
        "tam_turma=3\n",
        "for i in range (tam_turma):\n",
        "  linha=[]\n",
        "  for j in range(2):\n",
        "    if j==0:\n",
        "      linha.append(input('Entre com o nome do aluno(a): '))\n",
        "    else:\n",
        "      linha.append(float(input('Entre com o nota de ' + linha[0] +': ')))\n",
        "  turma.append(linha)\n",
        "notas=[]\n",
        "for i in turma:\n",
        "  notas.append(i[1])\n",
        "media=sum(notas)/len(notas)\n",
        "print('A média da turma é',media)\n",
        "for i in turma:\n",
        "  if i[1]>=media:\n",
        "    print(i[0],'esta encima da media com ',i[1])\n",
        "#print(media)"
      ],
      "metadata": {
        "colab": {
          "base_uri": "https://localhost:8080/"
        },
        "id": "rk8ewgS0oU3t",
        "outputId": "5443d8ac-a121-447d-f874-15108c467da6"
      },
      "execution_count": null,
      "outputs": [
        {
          "output_type": "stream",
          "name": "stdout",
          "text": [
            "Entre com o nome do aluno(a): Nadi\n",
            "Entre com o nota de Nadi: 10\n",
            "Entre com o nome do aluno(a): Juan\n",
            "Entre com o nota de Juan: 8\n",
            "Entre com o nome do aluno(a): Pedro\n",
            "Entre com o nota de Pedro: 4\n",
            "A média da turma é 7.333333333333333\n",
            "Nadi esta encima da media com  10.0\n",
            "Juan esta encima da media com  8.0\n"
          ]
        }
      ]
    },
    {
      "cell_type": "code",
      "source": [
        "newstring='Nadi'\n",
        "newlist=[1,2,3,4,5,6,7]\n",
        "newtupla=(1,2,3)\n",
        "newmatriz=[['Nadi',10],['Nadia',8],['Nidia',9]]\n",
        "#len() aplica para todas\n",
        "w=len(newstring)\n",
        "x=len(newlist)\n",
        "y=len(newtupla)\n",
        "z=len(newmatriz)\n",
        "print('Longitude de string',newstring,'é',w)\n",
        "print('Longitude da lista',newlist,'é',x)\n",
        "print('Longitude da tupla',newtupla,'é',y)\n",
        "print('Longitude da matriz',newmatriz,'é',z)"
      ],
      "metadata": {
        "colab": {
          "base_uri": "https://localhost:8080/"
        },
        "id": "HmKGUwthlGIS",
        "outputId": "9399600d-6fe9-4f99-da42-27b7286d5455"
      },
      "execution_count": null,
      "outputs": [
        {
          "output_type": "stream",
          "name": "stdout",
          "text": [
            "Longitude de string Nadi é 4\n",
            "Longitude da lista [1, 2, 3, 4, 5, 6, 7] é 7\n",
            "Longitude da tupla (1, 2, 3) é 3\n",
            "Longitude da matriz [['Nadi', 10], ['Nadia', 8], ['Nidia', 9]] é 3\n"
          ]
        }
      ]
    }
  ]
}