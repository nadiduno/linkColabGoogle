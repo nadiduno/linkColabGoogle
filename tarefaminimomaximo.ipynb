{
  "nbformat": 4,
  "nbformat_minor": 0,
  "metadata": {
    "colab": {
      "provenance": [],
      "authorship_tag": "ABX9TyP/+6JEMJrQJmOwvC8jZZJ+",
      "include_colab_link": true
    },
    "kernelspec": {
      "name": "python3",
      "display_name": "Python 3"
    },
    "language_info": {
      "name": "python"
    }
  },
  "cells": [
    {
      "cell_type": "markdown",
      "metadata": {
        "id": "view-in-github",
        "colab_type": "text"
      },
      "source": [
        "<a href=\"https://colab.research.google.com/github/nadiduno/linkColabGoogle/blob/main/tarefaminimomaximo.ipynb\" target=\"_parent\"><img src=\"https://colab.research.google.com/assets/colab-badge.svg\" alt=\"Open In Colab\"/></a>"
      ]
    },
    {
      "cell_type": "markdown",
      "source": [
        "#Tarefa\n",
        "\n",
        "Sem usar funções nativas de python.\n",
        "Desenvolva um código para ordenar de menor a maior e vice-versa.\n",
        "\n",
        "By [Nadi Duno](https://www.linkedin.com/in/nadiduno/)\n",
        "\n",
        "Professora **Marta Cabel** 😎"
      ],
      "metadata": {
        "id": "_8H7yvyCVwRZ"
      }
    },
    {
      "cell_type": "code",
      "source": [
        "import numpy as np"
      ],
      "metadata": {
        "id": "SZfGFH_aYi6a"
      },
      "execution_count": null,
      "outputs": []
    },
    {
      "cell_type": "code",
      "execution_count": null,
      "metadata": {
        "colab": {
          "base_uri": "https://localhost:8080/"
        },
        "id": "ZN1YVh0G2vFy",
        "outputId": "fac16efb-755e-4056-fa92-967c8c67cabe"
      },
      "outputs": [
        {
          "output_type": "stream",
          "name": "stdout",
          "text": [
            "Sequência de numeros \n",
            " [3, 12, 3, 2, 8, 7, 13, 6, 14, 8]\n",
            "\n",
            "Ordenados do menor para o maior \n",
            " [2, 3, 3, 6, 7, 8, 8, 12, 13, 14]\n"
          ]
        }
      ],
      "source": [
        "number=[]\n",
        "def orderSmaller(number):\n",
        "  for i in range(0,9):\n",
        "    for j in range(i+1,10):\n",
        "      if number[i]>number[j]:\n",
        "        aux=number[i]\n",
        "        number[i]=number[j]\n",
        "        number[j]=aux\n",
        "  print('\\nOrdenados do menor para o maior \\n',number)\n",
        "for elemento in range(0,10):\n",
        "  number.append(np.random.randint(0,15))\n",
        "print('Sequência de numeros \\n',number)\n",
        "orderSmaller(number)"
      ]
    },
    {
      "cell_type": "code",
      "source": [
        "number=[]\n",
        "def orderHigher(number):\n",
        "  for i in range(0,9):\n",
        "    for j in range(i+1,10):\n",
        "      if number[i]<number[j]:\n",
        "        aux=number[i]\n",
        "        number[i]=number[j]\n",
        "        number[j]=aux\n",
        "  print('\\nOrdenados do maior para o menor \\n',number)\n",
        "for elemento in range(0,10):\n",
        "  number.append(np.random.randint(0,15))\n",
        "print('Sequência de numeros \\n',number)\n",
        "orderHigher(number)"
      ],
      "metadata": {
        "colab": {
          "base_uri": "https://localhost:8080/"
        },
        "id": "qTmg87dYVKCg",
        "outputId": "4f802acb-fd6d-4e53-df26-da5404366c2b"
      },
      "execution_count": null,
      "outputs": [
        {
          "output_type": "stream",
          "name": "stdout",
          "text": [
            "Sequência de numeros \n",
            " [6, 7, 2, 9, 9, 11, 3, 11, 12, 5]\n",
            "\n",
            "Ordenados do maior para o menor \n",
            " [12, 11, 11, 9, 9, 7, 6, 5, 3, 2]\n"
          ]
        }
      ]
    }
  ]
}