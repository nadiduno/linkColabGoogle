{
  "nbformat": 4,
  "nbformat_minor": 0,
  "metadata": {
    "colab": {
      "provenance": [],
      "name": "SimulandoNomesNadiipynb.ipynb",
      "authorship_tag": "ABX9TyNTLxCe1pXjEKBC3mUx8iR3",
      "include_colab_link": true
    },
    "kernelspec": {
      "name": "python3",
      "display_name": "Python 3"
    },
    "language_info": {
      "name": "python"
    }
  },
  "cells": [
    {
      "cell_type": "markdown",
      "metadata": {
        "id": "view-in-github",
        "colab_type": "text"
      },
      "source": [
        "<a href=\"https://colab.research.google.com/github/nadiduno/linkColabGoogle/blob/main/SimulandoNomesNadiipynb.ipynb\" target=\"_parent\"><img src=\"https://colab.research.google.com/assets/colab-badge.svg\" alt=\"Open In Colab\"/></a>"
      ]
    },
    {
      "cell_type": "code",
      "execution_count": null,
      "metadata": {
        "colab": {
          "base_uri": "https://localhost:8080/"
        },
        "id": "yeWHDtxZVHih",
        "outputId": "59d7a249-493c-44ac-ff98-9fb92a1b2e8c"
      },
      "outputs": [
        {
          "output_type": "stream",
          "name": "stdout",
          "text": [
            "Looking in indexes: https://pypi.org/simple, https://us-python.pkg.dev/colab-wheels/public/simple/\n",
            "Requirement already satisfied: names in /usr/local/lib/python3.10/dist-packages (0.3.0)\n"
          ]
        }
      ],
      "source": [
        "pip install names\n"
      ]
    },
    {
      "cell_type": "code",
      "source": [
        "pip install randomname "
      ],
      "metadata": {
        "colab": {
          "base_uri": "https://localhost:8080/"
        },
        "id": "UmqprhpgWN5l",
        "outputId": "087ac181-e5fd-4b2b-9a4a-869acc7086eb"
      },
      "execution_count": null,
      "outputs": [
        {
          "output_type": "stream",
          "name": "stdout",
          "text": [
            "Looking in indexes: https://pypi.org/simple, https://us-python.pkg.dev/colab-wheels/public/simple/\n",
            "Collecting randomname\n",
            "  Downloading randomname-0.2.1.tar.gz (64 kB)\n",
            "\u001b[2K     \u001b[90m━━━━━━━━━━━━━━━━━━━━━━━━━━━━━━━━━━━━━━━━\u001b[0m \u001b[32m64.2/64.2 kB\u001b[0m \u001b[31m3.0 MB/s\u001b[0m eta \u001b[36m0:00:00\u001b[0m\n",
            "\u001b[?25h  Preparing metadata (setup.py) ... \u001b[?25l\u001b[?25hdone\n",
            "Collecting fire (from randomname)\n",
            "  Downloading fire-0.5.0.tar.gz (88 kB)\n",
            "\u001b[2K     \u001b[90m━━━━━━━━━━━━━━━━━━━━━━━━━━━━━━━━━━━━━━━━\u001b[0m \u001b[32m88.3/88.3 kB\u001b[0m \u001b[31m10.1 MB/s\u001b[0m eta \u001b[36m0:00:00\u001b[0m\n",
            "\u001b[?25h  Preparing metadata (setup.py) ... \u001b[?25l\u001b[?25hdone\n",
            "Requirement already satisfied: six in /usr/local/lib/python3.10/dist-packages (from fire->randomname) (1.16.0)\n",
            "Requirement already satisfied: termcolor in /usr/local/lib/python3.10/dist-packages (from fire->randomname) (2.3.0)\n",
            "Building wheels for collected packages: randomname, fire\n",
            "  Building wheel for randomname (setup.py) ... \u001b[?25l\u001b[?25hdone\n",
            "  Created wheel for randomname: filename=randomname-0.2.1-py3-none-any.whl size=89194 sha256=e047d6d0685ead1cbd539a4841d384178b85a00da639a142d25ccdd98dd5ce48\n",
            "  Stored in directory: /root/.cache/pip/wheels/10/50/8a/25f3820d26a431ffed1834d72ff2eb349123cf2b44c5a45727\n",
            "  Building wheel for fire (setup.py) ... \u001b[?25l\u001b[?25hdone\n",
            "  Created wheel for fire: filename=fire-0.5.0-py2.py3-none-any.whl size=116932 sha256=e21d874fc61a25357b62ed4b5977df910f2c486a25fa56137c5efca28f8d5716\n",
            "  Stored in directory: /root/.cache/pip/wheels/90/d4/f7/9404e5db0116bd4d43e5666eaa3e70ab53723e1e3ea40c9a95\n",
            "Successfully built randomname fire\n",
            "Installing collected packages: fire, randomname\n",
            "Successfully installed fire-0.5.0 randomname-0.2.1\n"
          ]
        }
      ]
    },
    {
      "cell_type": "code",
      "source": [
        "import pandas as pd\n",
        "import names, randomname\n",
        "#Procurar bibliotecas que simulem dados cadastrais\n",
        "#simpy\n",
        "#pyaddress\n"
      ],
      "metadata": {
        "id": "0bRrpb7kVlvW"
      },
      "execution_count": null,
      "outputs": []
    },
    {
      "cell_type": "markdown",
      "source": [
        "# Names:\n",
        "É uma biblioteca Python que fornece um gerador de nomes aleatórios. Para usar essa biblioteca, você precisa instalá-la com pip: sudo pip install names. Depois, você pode importá-la no seu código e usar as funções get_full_name, get_first_name ou get_last_name para obter nomes completos, nomes próprios ou sobrenomes, respectivamente. Você também pode especificar o gênero dos nomes com o parâmetro gender. Aqui está um exemplo de código que gera 10 nomes completos usando a biblioteca names:\n",
        "\n",
        "Baseado no censo de EEUU do 1990"
      ],
      "metadata": {
        "id": "HpyArPZmaGIq"
      }
    },
    {
      "cell_type": "code",
      "source": [
        "# Gera um nome completo aleatório\n",
        "nome_completo = names.get_full_name()\n",
        "print(f\"Nome completo: {nome_completo}\")\n",
        "\n",
        "# Gera um nome próprio aleatório de gênero feminino\n",
        "nome_feminino = names.get_first_name(gender='female')\n",
        "print(f\"Primeri Nome feminino: {nome_feminino}\")\n",
        "\n",
        "# Gera um sobrenome aleatório de nacionalidade brasileira\n",
        "#sobrenome_brasileiro = names.get"
      ],
      "metadata": {
        "colab": {
          "base_uri": "https://localhost:8080/"
        },
        "id": "7lc__lEXXtL5",
        "outputId": "6d748e8a-19ff-4187-ad51-06a3a7b9f910"
      },
      "execution_count": null,
      "outputs": [
        {
          "output_type": "stream",
          "name": "stdout",
          "text": [
            "Nome completo: Jeffrey Ramirez\n",
            "Primeri Nome feminino: Shannon\n"
          ]
        }
      ]
    },
    {
      "cell_type": "code",
      "source": [
        "\n",
        "# Gerar 10 nomes completos\n",
        "for i in range(10):\n",
        "    # Obter um nome completo aleatório\n",
        "    nome = names.get_full_name()\n",
        "    # Imprimir o nome\n",
        "    print(nome)\n",
        "    "
      ],
      "metadata": {
        "colab": {
          "base_uri": "https://localhost:8080/"
        },
        "id": "7Z_t7U4xaRKv",
        "outputId": "5101884b-7acd-44c2-918f-17363be8cf77"
      },
      "execution_count": null,
      "outputs": [
        {
          "output_type": "stream",
          "name": "stdout",
          "text": [
            "Gregory Beasley\n",
            "Claude Bartlett\n",
            "Florence Anderson\n",
            "Sergio Blanchette\n",
            "Patrick Helms\n",
            "Harry Rachal\n",
            "Ernest Henry\n",
            "Stuart Rank\n",
            "Mary Medovich\n",
            "Edward Velasquez\n"
          ]
        }
      ]
    },
    {
      "cell_type": "markdown",
      "source": [
        "# Randomname: \n",
        "\n",
        "Uma biblioteca que gera nomes únicos usando palavras reais, como contêineres docker ou repositórios github. Você pode instalar com pip install randomname e usar a função get para obter um nome no formato adjetivo-substantivo. Você também pode especificar subcategorias de adjetivos e substantivos ou definir seu próprio formato com a função generate.\n"
      ],
      "metadata": {
        "id": "iBZuUV6ObfA2"
      }
    },
    {
      "cell_type": "code",
      "source": [
        "# Gerar um nome no formato adjetivo-substantivo\n",
        "nome = randomname.generate()\n",
        "\n",
        "# Imprimir o nome\n",
        "print(nome)\n",
        "\n"
      ],
      "metadata": {
        "colab": {
          "base_uri": "https://localhost:8080/"
        },
        "id": "OLL1jJDfcDdF",
        "outputId": "bde197cf-99e8-466b-9ce9-08cfa507b5db"
      },
      "execution_count": null,
      "outputs": [
        {
          "output_type": "stream",
          "name": "stdout",
          "text": [
            "random-berry\n"
          ]
        }
      ]
    },
    {
      "cell_type": "code",
      "source": [
        "# Gerar 10 nomes no formato adjetivo-substantivo\n",
        "for i in range(10):\n",
        "    # Obter um nome completo aleatório\n",
        "    nome = randomname.get_name()\n",
        "    # Imprimir o nome\n",
        "    print(nome)\n",
        "    "
      ],
      "metadata": {
        "colab": {
          "base_uri": "https://localhost:8080/"
        },
        "id": "7j-9wOmlW1Kj",
        "outputId": "0eb709d7-e30b-4b9e-e6c6-0b372c83830a"
      },
      "execution_count": null,
      "outputs": [
        {
          "output_type": "stream",
          "name": "stdout",
          "text": [
            "deterministic-limo\n",
            "chromatic-bicycle\n",
            "hidden-capstan\n",
            "broad-sump\n",
            "largo-bridge\n",
            "chilly-cumin\n",
            "tart-parallel\n",
            "tangy-scene\n",
            "inventive-coverage\n",
            "quiet-dart\n"
          ]
        }
      ]
    },
    {
      "cell_type": "code",
      "source": [
        "# Gerar um nome usando um formato personalizado\n",
        "nome = randomname.generate(\"v/fire\", \"a/music_theory\", \"n/cats\")\n",
        "\n",
        "# Imprimir o nome\n",
        "print(nome)"
      ],
      "metadata": {
        "colab": {
          "base_uri": "https://localhost:8080/"
        },
        "id": "_IXLU7nrdpA8",
        "outputId": "19aa8911-e62a-4d13-a815-de2ae9bad304"
      },
      "execution_count": null,
      "outputs": [
        {
          "output_type": "stream",
          "name": "stdout",
          "text": [
            "parch-vibrato-bengal\n"
          ]
        }
      ]
    },
    {
      "cell_type": "code",
      "source": [
        "# Gerar um nome usando subcategorias de adjetivos e substantivos\n",
        "nome = randomname.get_name(adj=(\"colors\",), noun=(\"cats\", \"food\"))\n",
        "\n",
        "# Imprimir o nome\n",
        "print(nome)\n"
      ],
      "metadata": {
        "colab": {
          "base_uri": "https://localhost:8080/"
        },
        "id": "FoM-8L_ndz92",
        "outputId": "aaaf6fa8-cd0d-4a9a-c909-c9670b4428ee"
      },
      "execution_count": null,
      "outputs": [
        {
          "output_type": "stream",
          "name": "stdout",
          "text": [
            "desert-toast\n"
          ]
        }
      ]
    },
    {
      "cell_type": "markdown",
      "source": [
        "\n",
        "nameparser: Uma biblioteca que analisa nomes humanos em seus componentes individuais, como título, primeiro nome, sobrenome e sufixo. Você pode instalar com pip install nameparser e usar a classe HumanName para criar um objeto que representa um nome. Você pode acessar os atributos do objeto para obter as partes do nome ou usar os métodos as_dict e string_format para personalizar a saída."
      ],
      "metadata": {
        "id": "aO4mUkeVbhR1"
      }
    }
  ]
}