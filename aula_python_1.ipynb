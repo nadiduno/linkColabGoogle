{
  "nbformat": 4,
  "nbformat_minor": 0,
  "metadata": {
    "colab": {
      "provenance": [],
      "include_colab_link": true
    },
    "kernelspec": {
      "name": "python3",
      "display_name": "Python 3"
    },
    "language_info": {
      "name": "python"
    }
  },
  "cells": [
    {
      "cell_type": "markdown",
      "metadata": {
        "id": "view-in-github",
        "colab_type": "text"
      },
      "source": [
        "<a href=\"https://colab.research.google.com/github/nadiduno/linkColabGoogle/blob/main/aula_python_1.ipynb\" target=\"_parent\"><img src=\"https://colab.research.google.com/assets/colab-badge.svg\" alt=\"Open In Colab\"/></a>"
      ]
    },
    {
      "cell_type": "markdown",
      "source": [
        "# **AULA 01 - PYTHON**\n",
        "## Professora **Martha Cabel** 😎"
      ],
      "metadata": {
        "id": "bzLToluSqDDF"
      }
    },
    {
      "cell_type": "markdown",
      "source": [
        "# Recomendações:\n",
        "\n",
        "[Melhor Forma de Aprender Python (Google Colab Notebook)](https://youtu.be/Gojqw9BQ5qY)\n",
        "\n",
        "[Python no W3Schools](https://www.w3schools.com/python/default.asp)\n",
        "\n",
        "[Projeto Jupyter](https://jupyter.org/)"
      ],
      "metadata": {
        "id": "xe_4RygbkuKP"
      }
    },
    {
      "cell_type": "markdown",
      "source": [
        "# Operações Aritméticas\n",
        "\n",
        "```+``` (adição)\n",
        "\n",
        "```-``` (subtração)\n",
        "\n",
        "```*``` (multiplicação)\n",
        "\n",
        "```/``` (divisão)\n",
        "\n",
        "```**``` (potência)\n",
        "\n",
        "```%``` (resto de divisão, modulus)\n",
        "\n",
        "```//``` (arredonda a divisão (Floor Division), deixa sem número quebrado)\n"
      ],
      "metadata": {
        "id": "hvV1cX3UX5ST"
      }
    },
    {
      "cell_type": "code",
      "source": [
        "# Adição\n",
        "2+2"
      ],
      "metadata": {
        "id": "yHSaJFh4nekY",
        "colab": {
          "base_uri": "https://localhost:8080/"
        },
        "outputId": "dc7fed34-0a35-4611-c2e0-36e01e3836bc"
      },
      "execution_count": null,
      "outputs": [
        {
          "output_type": "execute_result",
          "data": {
            "text/plain": [
              "4"
            ]
          },
          "metadata": {},
          "execution_count": 94
        }
      ]
    },
    {
      "cell_type": "code",
      "source": [
        "# Subtração\n",
        "2-2"
      ],
      "metadata": {
        "colab": {
          "base_uri": "https://localhost:8080/"
        },
        "id": "HK9n8aF4ng8I",
        "outputId": "90266704-0fca-4c32-f85e-7663b1f254cc"
      },
      "execution_count": null,
      "outputs": [
        {
          "output_type": "execute_result",
          "data": {
            "text/plain": [
              "0"
            ]
          },
          "metadata": {},
          "execution_count": 8
        }
      ]
    },
    {
      "cell_type": "code",
      "source": [
        "# Multiplicação\n",
        "2*3"
      ],
      "metadata": {
        "colab": {
          "base_uri": "https://localhost:8080/"
        },
        "id": "UTcKOHkenizb",
        "outputId": "14e0cba3-dad5-46cd-c903-a74eb833e63d"
      },
      "execution_count": null,
      "outputs": [
        {
          "output_type": "execute_result",
          "data": {
            "text/plain": [
              "6"
            ]
          },
          "metadata": {},
          "execution_count": 9
        }
      ]
    },
    {
      "cell_type": "code",
      "source": [
        "# Divisão\n",
        "2/2"
      ],
      "metadata": {
        "colab": {
          "base_uri": "https://localhost:8080/"
        },
        "id": "3S8Pul2Ynkt7",
        "outputId": "14f5d735-eba4-444d-d71a-e8796ab3a986"
      },
      "execution_count": null,
      "outputs": [
        {
          "output_type": "execute_result",
          "data": {
            "text/plain": [
              "1.0"
            ]
          },
          "metadata": {},
          "execution_count": 18
        }
      ]
    },
    {
      "cell_type": "code",
      "source": [
        "# Potência\n",
        "3**2\n"
      ],
      "metadata": {
        "colab": {
          "base_uri": "https://localhost:8080/"
        },
        "id": "1JkHCmgMop2c",
        "outputId": "5393ac3e-6a92-4837-f7f6-3f0c1a50bf37"
      },
      "execution_count": null,
      "outputs": [
        {
          "output_type": "execute_result",
          "data": {
            "text/plain": [
              "9"
            ]
          },
          "metadata": {},
          "execution_count": 21
        }
      ]
    },
    {
      "cell_type": "code",
      "source": [
        "# Modulus\n",
        "2 % 2"
      ],
      "metadata": {
        "colab": {
          "base_uri": "https://localhost:8080/"
        },
        "id": "HpSkE2T5pMjW",
        "outputId": "90040de7-130e-46c8-b62d-5ca616352e05"
      },
      "execution_count": null,
      "outputs": [
        {
          "output_type": "execute_result",
          "data": {
            "text/plain": [
              "0"
            ]
          },
          "metadata": {},
          "execution_count": 19
        }
      ]
    },
    {
      "cell_type": "code",
      "source": [
        "# Arredonda (Floor Division)\n",
        "5 // 2 "
      ],
      "metadata": {
        "colab": {
          "base_uri": "https://localhost:8080/"
        },
        "id": "iixkNYvaZlw_",
        "outputId": "ab7eb395-238e-497c-e4d3-a17359de56a0"
      },
      "execution_count": null,
      "outputs": [
        {
          "output_type": "execute_result",
          "data": {
            "text/plain": [
              "2"
            ]
          },
          "metadata": {},
          "execution_count": 153
        }
      ]
    },
    {
      "cell_type": "markdown",
      "source": [
        "# Variáveis\n",
        "\n",
        "Variáveis são dados que podemos atribuir um nome.\n",
        "\n",
        "Podemos chamar os dados registrados ao longo do código pelos seus respectivos nomes.\n",
        "\n",
        "Assim como também criar qualquer tipo de nome que desejarmos para elas.\n",
        "\n",
        "## Variáveis Primitivas\n",
        "\n",
        "Possuem um **único** valor armazenado.\n",
        "\n",
        "- Integer (Int) > números com valores inteiros, sem vírgula\n",
        "- Float (Real) > números com valores flutuantes, com vírgula\n",
        "- Boolean (Lógico) > valores verdadeiros e falsos\n",
        "- String (Caracteres) > valores em texto\n",
        "\n",
        "## Variáveis Compostas\n",
        "\n",
        "Possuem **mais de um** valor armazenado.\n",
        "\n",
        "- Listas e Arrays > São uma sequência de valores ordenados de forma linear.\n",
        "- Objetos > São uma sequência de valores categorizada e ordenada em uma determinada sequência.\n"
      ],
      "metadata": {
        "id": "89zMM9VtjQvp"
      }
    },
    {
      "cell_type": "markdown",
      "source": [
        "# Variáveis Primitivas\n",
        "---"
      ],
      "metadata": {
        "id": "wo8uj0dMDGLa"
      }
    },
    {
      "cell_type": "code",
      "source": [
        "inteiro = 2\n",
        "\n",
        "print(inteiro)"
      ],
      "metadata": {
        "colab": {
          "base_uri": "https://localhost:8080/"
        },
        "id": "ByWDewXSmC1y",
        "outputId": "694afa90-b255-4b28-cf6c-032ca24fe76e"
      },
      "execution_count": null,
      "outputs": [
        {
          "output_type": "stream",
          "name": "stdout",
          "text": [
            "2\n"
          ]
        }
      ]
    },
    {
      "cell_type": "code",
      "source": [
        "flutuante = 3.5\n",
        "print(flutuante)"
      ],
      "metadata": {
        "colab": {
          "base_uri": "https://localhost:8080/"
        },
        "id": "5bsYuTtXrlX-",
        "outputId": "03219440-bc5b-4bdf-a2b2-d4df53e01fd7"
      },
      "execution_count": null,
      "outputs": [
        {
          "output_type": "stream",
          "name": "stdout",
          "text": [
            "3.5\n"
          ]
        }
      ]
    },
    {
      "cell_type": "code",
      "source": [
        "# Soma igual a 3\n",
        "soma = 1 + 2\n",
        "\n",
        "# Soma é igual a 3? Sim! Então é verdadeiro\n",
        "print(\"A soma é:\", soma == 3)\n",
        "\n",
        "# Subtração é igual a -1 \n",
        "subtracao = 1 - 2\n",
        "\n",
        "# Subtração é igual a 0? Não! Então é falso\n",
        "print(\"A subtração é:\", subtracao == 0)\n",
        "\n",
        "logico = True\n",
        "\n",
        "print(\"O meu lógico é: %s\" %logico)"
      ],
      "metadata": {
        "colab": {
          "base_uri": "https://localhost:8080/"
        },
        "outputId": "dc582841-07e1-4198-bb26-bfa8b49f9d33",
        "id": "wDY_3PtNsu3C"
      },
      "execution_count": null,
      "outputs": [
        {
          "output_type": "stream",
          "name": "stdout",
          "text": [
            "A soma é: True\n",
            "A subtração é: False\n",
            "O meu lógico é: True\n"
          ]
        }
      ]
    },
    {
      "cell_type": "code",
      "source": [
        "string = \"Olá, sou uma frase que tem o valor de string\"\n",
        "\n",
        "print(string)"
      ],
      "metadata": {
        "colab": {
          "base_uri": "https://localhost:8080/"
        },
        "id": "4XRAcvx5vdWq",
        "outputId": "30169e1c-f004-423b-f392-e08d07d7a739"
      },
      "execution_count": null,
      "outputs": [
        {
          "output_type": "stream",
          "name": "stdout",
          "text": [
            "Olá, sou uma frase que tem o valor de string\n"
          ]
        }
      ]
    },
    {
      "cell_type": "markdown",
      "source": [
        "# Variáveis Compostas\n",
        "\n",
        "\n",
        "---\n",
        "\n"
      ],
      "metadata": {
        "id": "Xmkx15M6C7pf"
      }
    },
    {
      "cell_type": "code",
      "source": [
        "# Listas podem ser usadas como arrays\n",
        "lista = [1, 2, 3, 4, 5, 6, \"oi\"]\n",
        "listaDois = list((6, 5, 4, 3, 2, 1))\n",
        "\n",
        "print(lista)\n",
        "print(listaDois)"
      ],
      "metadata": {
        "colab": {
          "base_uri": "https://localhost:8080/"
        },
        "id": "DX-MLjCg88GG",
        "outputId": "154f7920-0078-4cc1-87f2-a60c68f576e9"
      },
      "execution_count": null,
      "outputs": [
        {
          "output_type": "stream",
          "name": "stdout",
          "text": [
            "[1, 2, 3, 4, 5, 6, 'oi']\n",
            "[6, 5, 4, 3, 2, 1]\n"
          ]
        }
      ]
    },
    {
      "cell_type": "code",
      "source": [
        "# Para usar Arrays, é preciso usar a biblioteca NumPy\n",
        "# https://www.w3schools.com/python/numpy/default.asp\n",
        "import numpy as np\n",
        "meuArray = np.array([1, 2, 3, 4, 5, 6])\n",
        "print(\"Meu array: \", meuArray)"
      ],
      "metadata": {
        "colab": {
          "base_uri": "https://localhost:8080/"
        },
        "id": "XVpbshOn-D1k",
        "outputId": "f2cd1acf-6ad8-4bf1-e2a3-e70726e990e1"
      },
      "execution_count": null,
      "outputs": [
        {
          "output_type": "stream",
          "name": "stdout",
          "text": [
            "Meu array:  [1 2 3 4 5 6]\n"
          ]
        }
      ]
    },
    {
      "cell_type": "code",
      "source": [
        "# Objetos podem ter mais de uma propriedade\n",
        "# No exemplo abaixo, existem vários países (propriedades)\n",
        "# Com bandeiras (classe dos objetos)\n",
        "# Os objetos serão acompanhados com classes no Python \n",
        "class Bandeira:\n",
        "  UM = \"Inglaterra\"\n",
        "  DOIS = \"Espanha\"\n",
        "  TRES = \"França\"\n",
        "  QUATRO = \"MÉXICO\"\n",
        "  CINCO = \"ARGENTINA\"\n",
        "  SEIS = \"VENEZUELA\"\n",
        "  SETE = \"CHILE\"\n",
        "  OITO = \"COLOMBIA\"\n",
        "\n",
        "nomePais = Bandeira()\n",
        "print(nomePais.UM)"
      ],
      "metadata": {
        "colab": {
          "base_uri": "https://localhost:8080/"
        },
        "id": "wJ6nQcUYF4gK",
        "outputId": "b0d13594-6aaf-4619-f5d6-8c351525f513"
      },
      "execution_count": null,
      "outputs": [
        {
          "output_type": "stream",
          "name": "stdout",
          "text": [
            "Inglaterra\n"
          ]
        }
      ]
    },
    {
      "cell_type": "markdown",
      "source": [
        "# Index\n",
        "\n",
        "---"
      ],
      "metadata": {
        "id": "ajewT5IHFw-8"
      }
    },
    {
      "cell_type": "code",
      "source": [
        "# Variável com nome de lista e valor de string\n",
        "PegarIndex = \"Hey, sou uma string! Pegue o meu index\"\n",
        "\n",
        "# Index das três primeiras letras da string na saída (output)\n",
        "# Index SEMPRE começa com ZERO\n",
        "print(\"Os três primeiros caracteres: \" + \n",
        "      PegarIndex[0], PegarIndex[1], PegarIndex[2])\n",
        "\n",
        "# Index do número de caracteres e a última letra do PegarIndex\n",
        "# Obs: Os espaços contam como caracter\n",
        "charTotal = len(PegarIndex) -1\n",
        "charUltima = PegarIndex[-1]\n",
        "  # Este também funciona: PegarIndex[len(PegarIndex) -1]\n",
        "\n",
        "# Lista todos os caracteres a partir do index (uso de spliting)\n",
        "charFraseCompleta = PegarIndex[0:]\n",
        "\n",
        "print(\"O total de caracteres da string: \" + str(charTotal))\n",
        "print(\"O último caracter da string: \" + charUltima)\n",
        "print(\"A frase inteira é: \" + charFraseCompleta)"
      ],
      "metadata": {
        "colab": {
          "base_uri": "https://localhost:8080/"
        },
        "id": "po-DCcyOwVgZ",
        "outputId": "2f79c6fe-9fa1-4a08-d596-be83306b9824"
      },
      "execution_count": null,
      "outputs": [
        {
          "output_type": "stream",
          "name": "stdout",
          "text": [
            "Os três primeiros caracteres: H e y\n",
            "O total de caracteres da string: 37\n",
            "O último caracter da string: x\n",
            "A frase inteira é: Hey, sou uma string! Pegue o meu index\n"
          ]
        }
      ]
    },
    {
      "cell_type": "markdown",
      "source": [
        "# Inputs \n",
        "\n",
        "inputs são usados para coletar informações do usuário\n",
        "\n",
        "Usamos os inputs para guardar dados não antes definidos no código\n",
        "\n",
        "- É necessário converter para um outro tipo de dado se diferente de string"
      ],
      "metadata": {
        "id": "YU_zWnLHRalc"
      }
    },
    {
      "cell_type": "code",
      "source": [
        "variavel = int(input(\"Escolha um número para somar com DOIS:\"))\n",
        "\n",
        "# Exemplo de um output que exibirá um erro\n",
        "# print (\"O resultado foi:\" + variavel + 2)\n",
        "\n",
        "# Exemplo de um output correto\n",
        "print(\"O resultado foi:\" + str(variavel + 2))"
      ],
      "metadata": {
        "colab": {
          "base_uri": "https://localhost:8080/"
        },
        "id": "FTLjtjkPTHD2",
        "outputId": "8919631e-fa94-4239-be6a-c3eebb282c0d"
      },
      "execution_count": null,
      "outputs": [
        {
          "output_type": "stream",
          "name": "stdout",
          "text": [
            "Escolha um número para somar com DOIS:9\n",
            "O resultado foi:11\n"
          ]
        }
      ]
    },
    {
      "cell_type": "markdown",
      "source": [
        "# Funções\n",
        "\n",
        "Funções funcionam como uma forma de guardar resultados calculados das variáveis\n",
        "\n",
        "- Não precisamos mais repetir o cálculo ou a organização com as funções\n",
        "\n",
        "- Podemos assim separar o código com blocos fechados\n",
        "\n",
        "- Os blocos das funções só são executados se chamados pelo código\n",
        "\n",
        "- Podemos fazer as funções esperarem a entrada de variáveis (parâmetros)\n",
        "\n",
        "  - Quando definido parâmetros, a função precisa retornar um resultado\n",
        "\n",
        "## Sintaxe da Função\n",
        "\n",
        "---\n",
        "```def``` - Define a função\n",
        "\n",
        "```nomeFuncao``` - Nome do bloco da função\n",
        "\n",
        "```(parametro1, parametro2)``` - Variáveis necessárias para o bloco (opcional)\n",
        "\n",
        "```:``` - Sinal de dois pontos define o início da função\n",
        "\n",
        "```nomeFuncao()``` - Executa a função criada"
      ],
      "metadata": {
        "id": "YMSz58RKG0bX"
      }
    },
    {
      "cell_type": "code",
      "source": [
        "def nomeFuncao(): \n",
        "      print(1 + 2)\n",
        "nomeFuncao()"
      ],
      "metadata": {
        "colab": {
          "base_uri": "https://localhost:8080/"
        },
        "id": "1XsW2GTVGzpN",
        "outputId": "d82814fd-3984-42ea-c30d-b2885a454e5d"
      },
      "execution_count": null,
      "outputs": [
        {
          "output_type": "stream",
          "name": "stdout",
          "text": [
            "3\n"
          ]
        }
      ]
    },
    {
      "cell_type": "code",
      "source": [
        "def somaDoisParametros(varInt1, varInt2):\n",
        "  # Este é o corpo da função\n",
        "  # Use tab para criar espaçamento\n",
        "  # O espaçamento diz o que está dentro da função\n",
        "  # Obs: os parâmetros somente representam as variáveis\n",
        "  return varInt1 + varInt2\n",
        "\n",
        "num1 = int(input(\"Número 1: \"))\n",
        "num2 = int(input(\"Número 2: \"))\n",
        "\n",
        "output = somaDoisParametros(num1, num2)\n",
        "print(output)"
      ],
      "metadata": {
        "colab": {
          "base_uri": "https://localhost:8080/"
        },
        "id": "O_nGwPqmUdMu",
        "outputId": "0ecefc50-9ce7-45da-ccc7-715fa15b4232"
      },
      "execution_count": null,
      "outputs": [
        {
          "output_type": "stream",
          "name": "stdout",
          "text": [
            "Número 1: 60\n",
            "Número 2: 40\n",
            "100\n"
          ]
        }
      ]
    },
    {
      "cell_type": "markdown",
      "source": [
        "# Variáveis Globais e Locais\n",
        "\n",
        "As variáveis ***globais*** ficam fora dos blocos das funções\n",
        "  - Elas são reconhecidas em qualquer lugar dentro do arquivo\n",
        "\n",
        "As variáveis ***locais*** só são reconhecidas dentro das suas respectiva funções"
      ],
      "metadata": {
        "id": "fO3AyMLAeprM"
      }
    },
    {
      "cell_type": "code",
      "source": [
        "meuNumeroFavorito = 9\n",
        "meuNumeroFavorito"
      ],
      "metadata": {
        "colab": {
          "base_uri": "https://localhost:8080/"
        },
        "id": "Tbr85z5sfOvS",
        "outputId": "758134b0-b542-43ad-b4d7-618e70ccdcb7"
      },
      "execution_count": null,
      "outputs": [
        {
          "output_type": "execute_result",
          "data": {
            "text/plain": [
              "9"
            ]
          },
          "metadata": {},
          "execution_count": 159
        }
      ]
    },
    {
      "cell_type": "code",
      "source": [
        "meuNumeroFavorito + 2"
      ],
      "metadata": {
        "colab": {
          "base_uri": "https://localhost:8080/"
        },
        "id": "n6ouvGOVfdRZ",
        "outputId": "039d1253-51a2-4537-83c5-5ed5b6dc5859"
      },
      "execution_count": null,
      "outputs": [
        {
          "output_type": "execute_result",
          "data": {
            "text/plain": [
              "11"
            ]
          },
          "metadata": {},
          "execution_count": 161
        }
      ]
    },
    {
      "cell_type": "code",
      "source": [
        "# Verifica se o número existe fora do escopo da função\n",
        "numero = 2\n",
        "def meuNumero() :\n",
        "  numero = 9\n",
        "# Verifica dentro do escopo da função\n",
        "  if \"numero\" in locals():\n",
        "   print(\"número local existe. Ele é: \" + str(numero))\n",
        "  else:\n",
        "   print(\"número não existe\")\n",
        "\n",
        "# Verifica fora dos escopos das funções\n",
        "if \"numero\" in globals():\n",
        "   print(\"número global existe. Ele é: \" + str(numero))\n",
        "else:\n",
        "   print(\"número não existe\")\n",
        "\n",
        "# Chamada da função\n",
        "meuNumero()"
      ],
      "metadata": {
        "colab": {
          "base_uri": "https://localhost:8080/"
        },
        "id": "7x3ubAwxfilW",
        "outputId": "e8867339-f40a-44df-aae1-9df673bd6e35"
      },
      "execution_count": null,
      "outputs": [
        {
          "output_type": "stream",
          "name": "stdout",
          "text": [
            "número global existe. Ele é: 2\n",
            "número local existe. Ele é: 9\n"
          ]
        }
      ]
    },
    {
      "cell_type": "markdown",
      "source": [
        "# Exercícios\n",
        "\n",
        "---"
      ],
      "metadata": {
        "id": "whXA9qhBbfvU"
      }
    },
    {
      "cell_type": "code",
      "source": [
        "# Exercício sobre conversão de fahrenheit para celsius\n",
        "\n",
        "def FahrenheitToCelsius(varF) :\n",
        "  varC = (varF -32) / 1.8\n",
        "  return varC\n",
        "\n",
        "Fahrenheit = float(input(\"Valor da temperatura em Fahrenheit: \"))\n",
        "\n",
        "print(FahrenheitToCelsius(Fahrenheit))\n"
      ],
      "metadata": {
        "colab": {
          "base_uri": "https://localhost:8080/"
        },
        "id": "jYKML0PGbjQl",
        "outputId": "be136422-0c9a-42a2-9748-4d761dd5a071"
      },
      "execution_count": null,
      "outputs": [
        {
          "output_type": "stream",
          "name": "stdout",
          "text": [
            "Valor da temperatura em Fahrenheit: 100\n",
            "37.77777777777778\n"
          ]
        }
      ]
    },
    {
      "cell_type": "code",
      "source": [
        "# Exercício com o Index\n",
        "\n",
        "cestaDeFrutas = [\"maçã\", \"laranja\", \"abacaxi\", \"mamão\", \"limão\", \"granada\", \"ameixa\", \"banana\"]\n",
        "textoFruta = \"blueberry\"\n",
        "print(cestaDeFrutas[2])\n",
        "print(cestaDeFrutas[-1])\n",
        "print(textoFruta[2])"
      ],
      "metadata": {
        "colab": {
          "base_uri": "https://localhost:8080/"
        },
        "id": "G3j5t663AFua",
        "outputId": "b6b3e245-0dae-434d-cd25-4d291cc384a7"
      },
      "execution_count": null,
      "outputs": [
        {
          "output_type": "stream",
          "name": "stdout",
          "text": [
            "abacaxi\n",
            "banana\n",
            "u\n"
          ]
        }
      ]
    }
  ]
}