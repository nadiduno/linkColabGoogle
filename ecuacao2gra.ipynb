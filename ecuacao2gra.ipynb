{
  "nbformat": 4,
  "nbformat_minor": 0,
  "metadata": {
    "colab": {
      "provenance": [],
      "authorship_tag": "ABX9TyMVvZOT1oZbvE/jtYLkA0Bl",
      "include_colab_link": true
    },
    "kernelspec": {
      "name": "python3",
      "display_name": "Python 3"
    },
    "language_info": {
      "name": "python"
    }
  },
  "cells": [
    {
      "cell_type": "markdown",
      "metadata": {
        "id": "view-in-github",
        "colab_type": "text"
      },
      "source": [
        "<a href=\"https://colab.research.google.com/github/nadiduno/linkColabGoogle/blob/main/ecuacao2gra.ipynb\" target=\"_parent\"><img src=\"https://colab.research.google.com/assets/colab-badge.svg\" alt=\"Open In Colab\"/></a>"
      ]
    },
    {
      "cell_type": "code",
      "execution_count": null,
      "metadata": {
        "id": "V0qswi0A7uus"
      },
      "outputs": [],
      "source": [
        "a=float(input('Valor de a:'))\n",
        "b=float(input('Valor de b:'))\n",
        "c=float(input('Valor de c:'))\n",
        "#discriminante\n",
        "d=(b**2)-(4*a*c)\n",
        "if (d<0):\n",
        "  print('As raices são imaginarias')\n",
        "else:\n",
        "  x1=((-b)+(math.sqrt(d)))/(2*a)\n",
        "  x2=((-b)-(math.sqrt(d)))/(2*a)\n",
        "  print('O valor das raices são X1=',x1,' X2=',x2)"
      ]
    }
  ]
}